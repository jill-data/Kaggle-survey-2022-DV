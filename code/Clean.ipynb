{
 "cells": [
  {
   "cell_type": "code",
   "execution_count": null,
   "metadata": {},
   "outputs": [],
   "source": [
    "import textwrap\n",
    "import numpy as np\n",
    "import pandas as pd\n",
    "import matplotlib.pyplot as plt\n",
    "import matplotlib.patches as patches\n",
    "import statsmodels.api as sm\n",
    "import statsmodels.formula.api as smf\n",
    "import numpy\n",
    "from matplotlib import pyplot, transforms\n",
    "from matplotlib.text import OffsetFrom"
   ]
  },
  {
   "cell_type": "code",
   "execution_count": null,
   "metadata": {},
   "outputs": [],
   "source": [
    "df = pd.read_csv('./data/kaggle_survey_2022_responses.csv', skiprows=[0])"
   ]
  },
  {
   "cell_type": "code",
   "execution_count": null,
   "metadata": {},
   "outputs": [],
   "source": [
    "col_mapping = pd.read_csv('./data/column_mapping.csv')"
   ]
  },
  {
   "cell_type": "code",
   "execution_count": null,
   "metadata": {},
   "outputs": [],
   "source": [
    "col_mapping_dict = {k:v for k, v in col_mapping.dropna().values}"
   ]
  },
  {
   "cell_type": "code",
   "execution_count": null,
   "metadata": {},
   "outputs": [],
   "source": [
    "df = df[col_mapping_dict.keys()].rename(columns=col_mapping_dict)"
   ]
  },
  {
   "cell_type": "code",
   "execution_count": null,
   "metadata": {},
   "outputs": [],
   "source": [
    "df"
   ]
  },
  {
   "cell_type": "code",
   "execution_count": null,
   "metadata": {},
   "outputs": [],
   "source": [
    "df = df.query('student == \"No\"')"
   ]
  },
  {
   "cell_type": "code",
   "execution_count": null,
   "metadata": {},
   "outputs": [],
   "source": [
    "#Drop the column student after filtering to focus on industry insights from professionals\n",
    "df = df.drop(columns=['student'])\n",
    "df"
   ]
  },
  {
   "cell_type": "code",
   "execution_count": null,
   "metadata": {},
   "outputs": [],
   "source": [
    "df['title'].unique()"
   ]
  },
  {
   "cell_type": "code",
   "execution_count": null,
   "metadata": {},
   "outputs": [],
   "source": [
    "df = df.query('title.notna() and title != \"Currently not employed\"')\n"
   ]
  },
  {
   "cell_type": "code",
   "execution_count": null,
   "metadata": {},
   "outputs": [],
   "source": [
    "df['title'].unique()"
   ]
  },
  {
   "cell_type": "code",
   "execution_count": null,
   "metadata": {},
   "outputs": [],
   "source": [
    "df"
   ]
  },
  {
   "cell_type": "code",
   "execution_count": null,
   "metadata": {},
   "outputs": [],
   "source": [
    "df = df.query('industry.notna()')\n",
    "df"
   ]
  },
  {
   "cell_type": "code",
   "execution_count": null,
   "metadata": {},
   "outputs": [],
   "source": [
    "#Plotting the proportions of country \n",
    "num_country = df['country'].value_counts()\n",
    "num_country = num_country.reset_index()\n",
    "num_country\n"
   ]
  },
  {
   "cell_type": "markdown",
   "metadata": {},
   "source": [
    "## 1. Gender & Title distribution in different industries"
   ]
  },
  {
   "cell_type": "code",
   "execution_count": null,
   "metadata": {},
   "outputs": [],
   "source": [
    "position = df['title'].value_counts()\n",
    "position = position.reset_index()\n",
    "position"
   ]
  },
  {
   "cell_type": "code",
   "execution_count": null,
   "metadata": {},
   "outputs": [],
   "source": [
    "position['Group'] = position['index'].where(position['title'] > 100, 'Other')\n",
    "position"
   ]
  },
  {
   "cell_type": "code",
   "execution_count": null,
   "metadata": {},
   "outputs": [],
   "source": [
    "group_position = position.groupby('Group')['title'].sum().reset_index().sort_values(by='title', ascending=False)\n",
    "group_position\n",
    "\n"
   ]
  },
  {
   "cell_type": "code",
   "execution_count": null,
   "metadata": {},
   "outputs": [],
   "source": [
    "def plot_positions(group_position, ax):\n",
    "    labels = group_position['Group']\n",
    "    sizes = group_position['title']\n",
    "    colors = ['#A6ABAD','#00587A', '#0073A1', '#00A1E0','#00BCE3','#87CEEB', '#89BCC4', '#9BD3DD', '#A4E0EB']\n",
    "\n",
    "    \n",
    "    patches, labels_, percentages = ax.pie(\n",
    "        sizes, colors=colors,\n",
    "        wedgeprops={'linewidth': 3.0, 'edgecolor': 'white'},\n",
    "        textprops={'color': 'white', 'fontweight': 'bold','fontname': \"Sans Serif\"},\n",
    "        startangle=90, frame=True,\n",
    "        autopct=\"%.2f%%\",\n",
    "        pctdistance=0.85,\n",
    "    )\n",
    "\n",
    "    ax.axis('off')\n",
    "\n",
    "    ax.add_artist(plt.Circle((0, 0), 0.6, color='white', linewidth=0))\n",
    "\n",
    "    # Adding Title of chart\n",
    "    ax.set_title('Popular positions from surveyors', fontweight = 'bold', size = 15, fontfamily='serif', ha=\"center\", color=\"#4d4d4d\")\n",
    "\n",
    "    ax.legend(labels, loc='upper right', bbox_to_anchor=(1.35, 0.75))\n"
   ]
  },
  {
   "cell_type": "code",
   "execution_count": null,
   "metadata": {},
   "outputs": [],
   "source": [
    "fig, axs = plt.subplots(figsize=(15,9), dpi=400)\n",
    "plot_positions(group_position, axs)\n",
    "plt.show()"
   ]
  },
  {
   "cell_type": "markdown",
   "metadata": {},
   "source": [
    "## Gender and Title distribution across and within industry"
   ]
  },
  {
   "cell_type": "code",
   "execution_count": null,
   "metadata": {},
   "outputs": [],
   "source": [
    "df['count'] = 1"
   ]
  },
  {
   "cell_type": "code",
   "execution_count": null,
   "metadata": {},
   "outputs": [],
   "source": [
    "position_order = df['title'].unique().tolist()\n",
    "position_order"
   ]
  },
  {
   "cell_type": "code",
   "execution_count": null,
   "metadata": {},
   "outputs": [],
   "source": [
    "industry_order = df['industry'].unique().tolist()\n",
    "industry_order"
   ]
  },
  {
   "cell_type": "code",
   "execution_count": null,
   "metadata": {},
   "outputs": [],
   "source": [
    "data_q5q15 = pd.pivot_table(df, values='count', index=['title'], columns=['industry'], aggfunc=np.sum).fillna(0).astype(int).loc[position_order, industry_order].stack()\n",
    "data_q5q15_man = pd.pivot_table(df[df['gender']=='Man'], values='count', index=['title'], columns=['industry'], aggfunc=np.sum).fillna(0).astype(int).loc[position_order, industry_order].stack()\n",
    "data_q5q15_woman = pd.pivot_table(df[df['gender']=='Woman'], values='count', index=['title'], columns=['industry'], aggfunc=np.sum).fillna(0).astype(int).loc[position_order, industry_order].stack()"
   ]
  },
  {
   "cell_type": "code",
   "execution_count": null,
   "metadata": {},
   "outputs": [],
   "source": [
    "def drawPieMarker(xs, ys, ratios, sizes, colors, ax):\n",
    "    markers = []\n",
    "    previous = 0\n",
    "    # calculate the points of the pie pieces\n",
    "    for color, ratio in zip(colors, ratios):\n",
    "        this = 2 * np.pi * ratio + previous\n",
    "        x  = [0] + np.cos(np.linspace(previous, this, 30)).tolist() + [0]\n",
    "        y  = [0] + np.sin(np.linspace(previous, this, 30)).tolist() + [0]\n",
    "        xy = np.column_stack([x, y])\n",
    "        previous = this\n",
    "        markers.append({'marker':xy, 's':np.abs(xy).max()**2*np.array(sizes), 'facecolor':color})\n",
    "\n",
    "    # scatter each of the pie pieces to create pies\n",
    "    for marker in markers:\n",
    "        ax.scatter(xs, ys, **marker, alpha=0.7)"
   ]
  },
  {
   "cell_type": "code",
   "execution_count": null,
   "metadata": {},
   "outputs": [],
   "source": [
    "# Define function for marker\n",
    "# def count_to_size(val):\n",
    "#     max_sz = 20\n",
    "#     min_sz = 3\n",
    "#     return np.sqrt((val - 1) / (80 - 1)) * (max_sz - min_sz) + min_sz"
   ]
  },
  {
   "cell_type": "code",
   "execution_count": null,
   "metadata": {},
   "outputs": [],
   "source": [
    "fig = plt.figure(figsize=(22, 25), dpi=200)\n",
    "\n",
    "gs = fig.add_gridspec(5, 5)\n",
    "\n",
    "\n",
    "ax_plot = fig.add_subplot(gs[1:4, 0:4]) \n",
    "for q5_idx in position_order[::-1]:\n",
    "    for q15_idx in industry_order:\n",
    "        man = data_q5q15_man[q5_idx][q15_idx]\n",
    "        woman = data_q5q15_woman[q5_idx][q15_idx]\n",
    "        tot = data_q5q15[q5_idx][q15_idx]\n",
    "        drawPieMarker([q15_idx],[q5_idx], [man/(man+woman), woman/(man+woman)], [tot*7], ['#004c70', '#990000'], ax=ax_plot)\n",
    "\n",
    "ax_plot.grid(linewidth=0.2, zorder=0)        \n",
    "\n",
    "ax_plot.tick_params(axis='x', labelrotation=90)\n",
    "\n",
    "# Industry\n",
    "ax_int = fig.add_subplot(gs[0, :4], sharex=ax_plot) \n",
    "data_q15_woman = df[df['gender']=='Woman']['industry'].value_counts()[industry_order]\n",
    "ax_int.bar(data_q15_woman.index, data_q15_woman, width=0.45, alpha=0.7, color='#990000')\n",
    "\n",
    "data_q15_man = df[df['gender']=='Man']['industry'].value_counts()[industry_order]\n",
    "ax_int.bar(data_q15_man.index, data_q15_man, bottom=data_q15_woman , width=0.45, alpha=0.7, color='#004c70')\n",
    "\n",
    "plt.setp(ax_int.get_xticklabels(), visible=False)\n",
    "\n",
    "\n",
    "# Title\n",
    "ax_tit = fig.add_subplot(gs[1:4, 4], sharey=ax_plot) \n",
    "\n",
    "data_q5_woman = df[df['gender']=='Woman']['title'].value_counts()[position_order]\n",
    "ax_tit.barh(data_q5_woman.index[::-1], data_q5_woman[::-1], height=0.55, alpha=0.7, color='#990000')\n",
    "\n",
    "data_q5_man = df[df['gender']=='Man']['title'].value_counts()[position_order]\n",
    "ax_tit.barh(data_q5_man.index[::-1], data_q5_man[::-1], left= data_q5_woman[::-1],height=0.55, alpha=0.7, color='#004c70')\n",
    "\n",
    "plt.setp(ax_tit.get_yticklabels(), visible=False)\n",
    "\n",
    "# Spines\n",
    "for s in ['top', 'left', 'right', 'bottom']:\n",
    "    ax_plot.spines[s].set_visible(False)\n",
    "    ax_int.spines[s].set_visible(False)\n",
    "    ax_tit.spines[s].set_visible(False)\n",
    "    \n",
    "\n",
    "fig.text(0.6, 0.9, 'Gender & Title distribution by Industry', fontweight='bold', fontfamily='serif', fontsize=35, ha='right') \n",
    "fig.text(0.6, 0.88, 'Source: Data Professionals - Kaggle Survey 2022', fontweight='light', style= 'italic', fontfamily='serif', fontsize=15, ha='right')\n",
    "\n",
    "\n",
    "an1 = ax_int.annotate(\"Male\", xy=(14, 2000), xycoords=\"data\",\n",
    "                  va=\"center\", ha=\"center\",\n",
    "                  fontweight = 'bold', fontfamily='serif', fontsize=18,\n",
    "                  bbox=dict(boxstyle=\"round\", fc=\"w\"), color='#004c70')\n",
    "\n",
    "offset_from = OffsetFrom(an1, (0.5, -0.2))\n",
    "an2 = ax_int.annotate(\"Female\", xy=(0.1, 0.1), xycoords=\"data\",\n",
    "                  xytext=(0, -10), textcoords=offset_from,\n",
    "                  # xytext is offset points from \"xy=(0.5, 0), xycoords=an1\"\n",
    "                  va=\"top\", ha=\"center\", color='#990000',\n",
    "                  fontweight = 'bold', fontfamily='serif',\n",
    "                  fontsize=18,\n",
    "                  bbox=dict(boxstyle=\"round\", fc=\"w\"))\n",
    "                  \n",
    "# # legend for marker size\n",
    "# plt.text(5,10, \"Count of Professionals\", fontname=\"Sans Serif\", fontsize=8, ha=\"center\")\n",
    "# marker_x = [10.6, 11, 11.4, 11.9]\n",
    "# marker_count = [1, 100, 200, 500]\n",
    "# marker_size = count_to_size(np.array(marker_count))\n",
    "# for i in range(len(marker_x)):\n",
    "#     plt.plot(marker_x[i], 54, markersize=marker_size[i], marker=\"o\", color=\"#4d4d4d\")\n",
    "#     plt.text(marker_x[i], 49, str(marker_count[i]), ha=\"center\", fontsize=8, color=\"#4d4d4d\")\n",
    "# ax_int.add_patch(plt.Rectangle((5,12), 2, 110, fill=False))\n",
    "\n",
    "plt.show()\n",
    "\n"
   ]
  },
  {
   "cell_type": "markdown",
   "metadata": {},
   "source": [
    "## 2. Education levels in different titles"
   ]
  },
  {
   "cell_type": "code",
   "execution_count": null,
   "metadata": {},
   "outputs": [],
   "source": []
  }
 ],
 "metadata": {
  "kernelspec": {
   "display_name": "Python 3.10.4 ('conda_3_10')",
   "language": "python",
   "name": "python3"
  },
  "language_info": {
   "codemirror_mode": {
    "name": "ipython",
    "version": 3
   },
   "file_extension": ".py",
   "mimetype": "text/x-python",
   "name": "python",
   "nbconvert_exporter": "python",
   "pygments_lexer": "ipython3",
   "version": "3.10.4"
  },
  "orig_nbformat": 4,
  "vscode": {
   "interpreter": {
    "hash": "8b9ff4162452091f6c2528883ae61dc6ecfac2061e6f2887e38ff166f42f8ecf"
   }
  }
 },
 "nbformat": 4,
 "nbformat_minor": 2
}
