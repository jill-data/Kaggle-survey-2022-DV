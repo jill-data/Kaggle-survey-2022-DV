{
 "cells": [
  {
   "cell_type": "code",
   "execution_count": null,
   "metadata": {},
   "outputs": [],
   "source": [
    "import seaborn as sns\n",
    "import warnings\n",
    "import textwrap\n",
    "import numpy as np\n",
    "import pandas as pd\n",
    "import matplotlib.pyplot as plt\n",
    "import matplotlib.patches as patches\n",
    "import statsmodels.api as sm\n",
    "import statsmodels.formula.api as smf\n",
    "import numpy\n",
    "from matplotlib import pyplot, transforms\n",
    "from matplotlib.text import OffsetFrom"
   ]
  },
  {
   "cell_type": "code",
   "execution_count": null,
   "metadata": {},
   "outputs": [],
   "source": [
    "df = pd.read_csv('./data/kaggle_survey_2022_responses.csv', skiprows=[0])"
   ]
  },
  {
   "cell_type": "markdown",
   "metadata": {},
   "source": [
    "# Data cleaning"
   ]
  },
  {
   "cell_type": "markdown",
   "metadata": {},
   "source": [
    "## Columns"
   ]
  },
  {
   "cell_type": "code",
   "execution_count": null,
   "metadata": {},
   "outputs": [],
   "source": [
    "col_mapping = pd.read_csv('./data/column_mapping.csv')"
   ]
  },
  {
   "cell_type": "code",
   "execution_count": null,
   "metadata": {},
   "outputs": [],
   "source": [
    "col_mapping_dict = {k:v for k, v in col_mapping.dropna().values}"
   ]
  },
  {
   "cell_type": "code",
   "execution_count": null,
   "metadata": {},
   "outputs": [],
   "source": [
    "df = df[col_mapping_dict.keys()].rename(columns=col_mapping_dict)"
   ]
  },
  {
   "cell_type": "markdown",
   "metadata": {},
   "source": [
    "## Select data professionalas only\n"
   ]
  },
  {
   "cell_type": "code",
   "execution_count": null,
   "metadata": {},
   "outputs": [],
   "source": [
    "pos_mapping = pd.read_csv('./data/position_mapping.csv')\n",
    "pos_maping_dict = {k:v for k, v in pos_mapping.dropna().values}"
   ]
  },
  {
   "cell_type": "code",
   "execution_count": null,
   "metadata": {},
   "outputs": [],
   "source": [
    "df['title'] = df['title'].map(pos_maping_dict)"
   ]
  },
  {
   "cell_type": "code",
   "execution_count": null,
   "metadata": {},
   "outputs": [],
   "source": [
    "df = df.query('student == \"No\"')"
   ]
  },
  {
   "cell_type": "code",
   "execution_count": null,
   "metadata": {},
   "outputs": [],
   "source": [
    "#Drop the column student after filtering to focus on industry insights from professionals\n",
    "df = df.drop(columns=['student'])\n",
    "df.head(3)"
   ]
  },
  {
   "cell_type": "code",
   "execution_count": null,
   "metadata": {},
   "outputs": [],
   "source": [
    "df = df.query('title.notna() and title != \"Currently not employed\"')\n"
   ]
  },
  {
   "cell_type": "code",
   "execution_count": null,
   "metadata": {},
   "outputs": [],
   "source": [
    "df['title'].unique()"
   ]
  },
  {
   "cell_type": "code",
   "execution_count": null,
   "metadata": {},
   "outputs": [],
   "source": [
    "df = df.query('industry.notna()')\n",
    "df.head(3)"
   ]
  },
  {
   "cell_type": "code",
   "execution_count": null,
   "metadata": {},
   "outputs": [],
   "source": [
    "#Plotting the proportions of country \n",
    "num_country = df['country'].value_counts()\n",
    "num_country = num_country.reset_index()\n",
    "num_country"
   ]
  },
  {
   "cell_type": "markdown",
   "metadata": {},
   "source": [
    "Encode Machine learning stages"
   ]
  },
  {
   "cell_type": "code",
   "execution_count": null,
   "metadata": {},
   "outputs": [],
   "source": [
    "df['company_stage'].unique()"
   ]
  },
  {
   "cell_type": "code",
   "execution_count": null,
   "metadata": {},
   "outputs": [],
   "source": [
    "company_stage_dict = {\n",
    "    'I do not know': -1,\n",
    "    'No (we do not use ML methods)': 0,\n",
    "    'We are exploring ML methods (and may one day put a model into production)': 1,\n",
    "    'We use ML methods for generating insights (but do not put working models into production)': 2,\n",
    "    'We recently started using ML methods (i.e., models in production for less than 2 years)': 3,\n",
    "    'We have well established ML methods (i.e., models in production for more than 2 years)': 4\n",
    "}\n",
    "\n"
   ]
  },
  {
   "cell_type": "code",
   "execution_count": null,
   "metadata": {},
   "outputs": [],
   "source": [
    "df['stage_index'] = df['company_stage'].map(company_stage_dict)"
   ]
  },
  {
   "cell_type": "markdown",
   "metadata": {},
   "source": [
    "ML experience"
   ]
  },
  {
   "cell_type": "code",
   "execution_count": null,
   "metadata": {},
   "outputs": [],
   "source": [
    "df['ml_seniority'] = df['ml_exp'].map({\n",
    "    'I do not use machine learning methods': 0,\n",
    "    'Under 1 year': 0.5,\n",
    "    '1-2 years': 1.5,\n",
    "    '2-3 years': 2.5,\n",
    "    '3-4 years': 3.5,\n",
    "    '4-5 years': 4.5,\n",
    "    '5-10 years': 7.5,\n",
    "    '10-20 years': 15,\n",
    "})"
   ]
  },
  {
   "cell_type": "code",
   "execution_count": null,
   "metadata": {},
   "outputs": [],
   "source": [
    "df['salary_usd'] = df['yearly_compensation'].map({\n",
    "    '25,000-29,999': 27499.5,\n",
    "    '100,000-124,999': 112499.5,\n",
    "    '200,000-249,999': 224999.5,\n",
    "    '150,000-199,999': 174999.5,\n",
    "    '90,000-99,999': 94999.5,\n",
    "    '30,000-39,999': 34999.5,\n",
    "    '3,000-3,999': 3499.5,\n",
    "    '50,000-59,999': 54999.5,\n",
    "    '125,000-149,999': 137499.5,\n",
    "    '15,000-19,999': 17499.5,\n",
    "    '5,000-7,499': 6249.5,\n",
    "    '10,000-14,999': 12499.5,\n",
    "    '20,000-24,999': 22499.5,\n",
    "    '$0-999': 499.5,\n",
    "    '7,500-9,999': 8749.5,\n",
    "    '4,000-4,999': 4499.5,\n",
    "    '80,000-89,999': 84999.5,\n",
    "    '2,000-2,999': 2499.5,\n",
    "    '250,000-299,999': 274999.5,\n",
    "    '1,000-1,999': 1499.5,\n",
    "    '$500,000-999,999': 749999.5,\n",
    "    '70,000-79,999': 74999.5,\n",
    "    '60,000-69,999': 64999.5,\n",
    "    '40,000-49,999': 44999.5,\n",
    "    '300,000-499,999': 399999.5,\n",
    "    '>$1,000,000': 1000000,\n",
    "})"
   ]
  },
  {
   "cell_type": "code",
   "execution_count": null,
   "metadata": {},
   "outputs": [],
   "source": [
    "df['coding_exp_year'] = df['code_exp'].map({\n",
    "    '10-20 years': 15,\n",
    "    '20+ years': 20,\n",
    "    '1-3 years': 2,\n",
    "    '5-10 years': 7.5,\n",
    "    '3-5 years': 4,\n",
    "    '< 1 years': 0.5,\n",
    "    'I have never written code': 0,\n",
    "})"
   ]
  },
  {
   "cell_type": "code",
   "execution_count": null,
   "metadata": {},
   "outputs": [],
   "source": [
    "df.to_csv('./data/cleaned_kaggle2022.csv', index=False)"
   ]
  },
  {
   "cell_type": "markdown",
   "metadata": {},
   "source": [
    "## 1. Gender & Title distribution in different industries"
   ]
  },
  {
   "cell_type": "code",
   "execution_count": null,
   "metadata": {},
   "outputs": [],
   "source": [
    "position = df['title'].value_counts()\n",
    "position = position.reset_index()\n",
    "position"
   ]
  },
  {
   "cell_type": "code",
   "execution_count": null,
   "metadata": {},
   "outputs": [],
   "source": [
    "position['Group'] = position['index'].where(position['title'] > 100, 'Other')\n",
    "position"
   ]
  },
  {
   "cell_type": "code",
   "execution_count": null,
   "metadata": {},
   "outputs": [],
   "source": [
    "group_position = position.groupby('Group')['title'].sum().reset_index().sort_values(by='title', ascending=False)\n",
    "group_position"
   ]
  },
  {
   "cell_type": "code",
   "execution_count": null,
   "metadata": {},
   "outputs": [],
   "source": [
    "def plot_positions(group_position, ax):\n",
    "    labels = group_position['Group']\n",
    "    sizes = group_position['title']\n",
    "    colors = ['#A6ABAD','#00587A', '#0073A1', '#00A1E0','#00BCE3','#87CEEB', '#89BCC4', '#9BD3DD', '#A4E0EB']\n",
    "    \n",
    "    patches, labels_, percentages = ax.pie(\n",
    "        sizes, colors=colors,\n",
    "        wedgeprops={'linewidth': 3.0, 'edgecolor': 'white'},\n",
    "        textprops={'color': 'white', 'fontweight': 'bold','fontname': \"Sans Serif\"},\n",
    "        startangle=90, frame=True,\n",
    "        autopct=\"%.2f%%\",\n",
    "        pctdistance=0.85,\n",
    "    )\n",
    "\n",
    "    ax.axis('off')\n",
    "\n",
    "    ax.add_artist(plt.Circle((0, 0), 0.6, color='white', linewidth=0))\n",
    "\n",
    "    # Adding Title of chart\n",
    "    ax.set_title('Popular positions from surveyors', fontweight = 'bold', size = 15, fontfamily='serif', ha=\"center\", color=\"#4d4d4d\")\n",
    "\n",
    "    ax.legend(labels, loc='upper right', bbox_to_anchor=(1.35, 0.75))\n"
   ]
  },
  {
   "cell_type": "code",
   "execution_count": null,
   "metadata": {},
   "outputs": [],
   "source": [
    "# fig, axs = plt.subplots(figsize=(15,9), dpi=400)\n",
    "# plot_positions(group_position, axs)\n",
    "# plt.show()"
   ]
  },
  {
   "cell_type": "code",
   "execution_count": null,
   "metadata": {},
   "outputs": [],
   "source": [
    "df['count'] = 1"
   ]
  },
  {
   "cell_type": "code",
   "execution_count": null,
   "metadata": {},
   "outputs": [],
   "source": [
    "position_order = sorted(df['title'].unique().tolist())\n",
    "position_order"
   ]
  },
  {
   "cell_type": "code",
   "execution_count": null,
   "metadata": {},
   "outputs": [],
   "source": [
    "industry_order = sorted(df['industry'].unique().tolist())\n",
    "industry_order"
   ]
  },
  {
   "cell_type": "code",
   "execution_count": null,
   "metadata": {},
   "outputs": [],
   "source": [
    "data_q5q15 = pd.pivot_table(df, values='count', index=['title'], columns=['industry'], aggfunc=np.sum).fillna(0).astype(int).loc[position_order, industry_order].stack()\n",
    "data_q5q15_man = pd.pivot_table(df[df['gender']=='Man'], values='count', index=['title'], columns=['industry'], aggfunc=np.sum).fillna(0).astype(int).loc[position_order, industry_order].stack()\n",
    "data_q5q15_woman = pd.pivot_table(df[df['gender']=='Woman'], values='count', index=['title'], columns=['industry'], aggfunc=np.sum).fillna(0).astype(int).loc[position_order, industry_order].stack()"
   ]
  },
  {
   "cell_type": "code",
   "execution_count": null,
   "metadata": {},
   "outputs": [],
   "source": [
    "def drawPieMarker(xs, ys, ratios, sizes, colors, ax):\n",
    "    markers = []\n",
    "    previous = 0\n",
    "    # calculate the points of the pie pieces\n",
    "    for color, ratio in zip(colors, ratios):\n",
    "        this = 2 * np.pi * ratio + previous\n",
    "        x  = [0] + np.cos(np.linspace(previous, this, 30)).tolist() + [0]\n",
    "        y  = [0] + np.sin(np.linspace(previous, this, 30)).tolist() + [0]\n",
    "        xy = np.column_stack([x, y])\n",
    "        previous = this\n",
    "        markers.append({'marker':xy, 's':np.abs(xy).max()**2*np.array(sizes), 'facecolor':color})\n",
    "\n",
    "    # scatter each of the pie pieces to create pies\n",
    "    for marker in markers:\n",
    "        ax.scatter(xs, ys, **marker, alpha=0.7)"
   ]
  },
  {
   "cell_type": "code",
   "execution_count": null,
   "metadata": {},
   "outputs": [],
   "source": [
    "# Define function for marker\n",
    "# def count_to_size(val):\n",
    "#     max_sz = 20\n",
    "#     min_sz = 3\n",
    "#     return np.sqrt((val - 1) / (80 - 1)) * (max_sz - min_sz) + min_sz"
   ]
  },
  {
   "cell_type": "code",
   "execution_count": null,
   "metadata": {},
   "outputs": [],
   "source": [
    "with warnings.catch_warnings():\n",
    "    warnings.filterwarnings('ignore')\n",
    "    fig = plt.figure(figsize=(22, 25), dpi=200)\n",
    "\n",
    "    gs = fig.add_gridspec(5, 5)\n",
    "\n",
    "    ax_plot = fig.add_subplot(gs[1:4, 0:4]) \n",
    "    for q5_idx in position_order[::-1]:\n",
    "        for q15_idx in industry_order:\n",
    "            man = data_q5q15_man[q5_idx][q15_idx]\n",
    "            woman = data_q5q15_woman[q5_idx][q15_idx]\n",
    "            tot = data_q5q15[q5_idx][q15_idx]\n",
    "            drawPieMarker([q15_idx],[q5_idx], [man/(man+woman), woman/(man+woman)], [tot*7], ['#1170aa', '#B21807'], ax=ax_plot)\n",
    "\n",
    "    ax_plot.grid(linewidth=0.2, zorder=0)        \n",
    "\n",
    "    ax_plot.tick_params(axis='x', labelrotation=90)\n",
    "\n",
    "    # region Industry\n",
    "    ax_int = fig.add_subplot(gs[0, :4], sharex=ax_plot) \n",
    "    data_q15_woman = df[df['gender']=='Woman']['industry'].value_counts()[industry_order]\n",
    "    ax_int.bar(data_q15_woman.index, data_q15_woman, width=0.45, alpha=0.7, color='#B21807', label='Female')\n",
    "\n",
    "    data_q15_man = df[df['gender']=='Man']['industry'].value_counts()[industry_order]\n",
    "    ax_int.bar(data_q15_man.index, data_q15_man, bottom=data_q15_woman , width=0.45, alpha=0.7, color='#1170aa', label='Male')\n",
    "\n",
    "    plt.setp(ax_int.get_xticklabels(), visible=False)\n",
    "    # endregion\n",
    "\n",
    "\n",
    "    # region Title\n",
    "    ax_tit = fig.add_subplot(gs[1:4, 4], sharey=ax_plot) \n",
    "\n",
    "    data_q5_woman = df[df['gender']=='Woman']['title'].value_counts()[position_order]\n",
    "    ax_tit.barh(data_q5_woman.index[::-1], data_q5_woman[::-1], height=0.55, alpha=0.7, color='#B21807')\n",
    "\n",
    "    data_q5_man = df[df['gender']=='Man']['title'].value_counts()[position_order]\n",
    "    ax_tit.barh(data_q5_man.index[::-1], data_q5_man[::-1], left= data_q5_woman[::-1],height=0.55, alpha=0.7, color='#1170aa')\n",
    "\n",
    "    plt.setp(ax_tit.get_yticklabels(), visible=False)\n",
    "    # endregion\n",
    "\n",
    "    # Spines\n",
    "    for s in ['top', 'left', 'right', 'bottom']:\n",
    "        ax_plot.spines[s].set_visible(False)\n",
    "        ax_int.spines[s].set_visible(False)\n",
    "        ax_tit.spines[s].set_visible(False)\n",
    "        \n",
    "\n",
    "    fig.text(0.6, 0.9, 'Gender & Title distribution by Industry', fontweight='bold', fontfamily='arial', fontsize=35, ha='right', color = '#C41E3A') \n",
    "    fig.text(0.6, 0.88, 'Source: Data Professionals - Kaggle Survey 2022', fontweight='light', style= 'italic', fontfamily='arial', fontsize=15, ha='right')\n",
    "\n",
    "    # Legend\n",
    "    legend_gender = ax_int.legend(bbox_to_anchor=(1.2, 1.1), fontsize=16, frameon=False, title='Gender', title_fontsize=20)\n",
    "    legend_count = ax_int.annotate(\n",
    "        'Count of professionals',\n",
    "        xy=(0.1, 0.1),\n",
    "        textcoords=OffsetFrom(legend_gender, (0.5, -0.5)),\n",
    "        xytext=(0, 0),\n",
    "        fontsize=20,\n",
    "        ha='center',\n",
    "    )\n",
    "\n",
    "    corner_ax = fig.add_subplot(gs[0, 4], zorder=-1)\n",
    "    corner_ax.set_axis_off()\n",
    "    for s in ['top', 'left', 'right', 'bottom']:\n",
    "        corner_ax.spines[s].set_visible(False)\n",
    "\n",
    "    ax_count = corner_ax.inset_axes([0, 0, 1, 0.5])\n",
    "    ax_count.set_axis_off()\n",
    "    sizes = [50, 100, 200]\n",
    "    x_coords = [0] * len(sizes)\n",
    "    y_coords = np.arange(len(sizes))\n",
    "    ax_count.scatter(x_coords, y_coords, marker='o', s=[size*7 for size in sizes], c='#a3acb9', alpha=0.7)\n",
    "    ax_count.set_xlim(-0.02, 0.06)\n",
    "    ax_count.set_ylim(-0.5, 2.5)\n",
    "\n",
    "    for size, x, y in zip(sizes, x_coords, y_coords):\n",
    "        ax_count.annotate(str(size), (x + 0.015, y-0.15), fontsize=16)\n",
    "\n",
    "    plt.savefig('./charts/gender title by industry.png')\n",
    "    plt.close('all')"
   ]
  },
  {
   "cell_type": "markdown",
   "metadata": {},
   "source": [
    "## 2. ML in research by data professionals"
   ]
  },
  {
   "cell_type": "code",
   "execution_count": null,
   "metadata": {},
   "outputs": [],
   "source": [
    "df = df.query('education_level.notna() and education_level != \"I prefer not to answer\"')\n",
    "df['education_level'].unique()"
   ]
  },
  {
   "cell_type": "code",
   "execution_count": null,
   "metadata": {},
   "outputs": [],
   "source": [
    "df['edu_group'] = df['education_level'].where(\n",
    "    ~df['education_level'].isin([\"No formal education past high school\", \"Some college/university study without earning a bachelor’s degree\"]), \"Below Bachelor's Degree\"\n",
    "    )"
   ]
  },
  {
   "cell_type": "code",
   "execution_count": null,
   "metadata": {},
   "outputs": [],
   "source": [
    "df['edu_group'] = df['edu_group'].where(\n",
    "    ~df['edu_group'].isin([\"Professional doctorate\", \"Doctoral degree\"]), \"Above Master's Degree\"\n",
    "    )"
   ]
  },
  {
   "cell_type": "code",
   "execution_count": null,
   "metadata": {},
   "outputs": [],
   "source": [
    "df['edu_group'].unique()"
   ]
  },
  {
   "cell_type": "code",
   "execution_count": null,
   "metadata": {},
   "outputs": [],
   "source": [
    "df_theo = df.query('ml_used_theoretical.notna()').groupby(by='title').count()\n",
    "df_theo"
   ]
  },
  {
   "cell_type": "code",
   "execution_count": null,
   "metadata": {},
   "outputs": [],
   "source": [
    "from pandas.plotting import parallel_coordinates"
   ]
  },
  {
   "cell_type": "code",
   "execution_count": null,
   "metadata": {},
   "outputs": [],
   "source": [
    "ml_used_df = df.dropna(subset=['published'], how='all')\n",
    "title_count = ml_used_df.groupby('title').size()\n",
    "ml_theoretical = ml_used_df.groupby('title')['ml_used_theoretical'].count()\n",
    "ml_applied = ml_used_df.groupby('title')['ml_used_applied'].count()\n",
    "ml_no = ml_used_df.groupby('title')['ml_used_no'].count()\n",
    "ml_used = pd.concat([title_count, ml_theoretical, ml_applied, ml_no], axis=1)\n",
    "ml_used = ml_used.rename(columns={0: 'count'}).reset_index()\n",
    "ml_used = (\n",
    "    ml_used\n",
    "    .eval('pct_theoretical = ml_used_theoretical / count * 100')\n",
    "    .eval('pct_applied = ml_used_applied / count * 100')\n",
    "    .eval('pct_no= ml_used_no / count * 100')\n",
    "    .drop(['ml_used_theoretical', 'ml_used_applied', 'ml_used_no', 'count'], axis=1)\n",
    "    .sort_values('pct_theoretical')\n",
    "    .reset_index(drop=True)\n",
    ")\n",
    "ml_used"
   ]
  },
  {
   "cell_type": "code",
   "execution_count": null,
   "metadata": {},
   "outputs": [],
   "source": [
    "# Plot\n",
    "plt.figure(figsize=(10,7), dpi= 200)\n",
    "parallel_coordinates(ml_used, 'title', colormap='tab20')\n",
    "labels = ['% Theoretical Research', '% Applied Research', '% No Research']\n",
    "\n",
    "# Lighten borders\n",
    "plt.gca().spines[\"top\"].set_alpha(0)\n",
    "plt.gca().spines[\"bottom\"].set_alpha(.3)\n",
    "plt.gca().spines[\"right\"].set_alpha(0)\n",
    "plt.gca().spines[\"left\"].set_alpha(.3)\n",
    "\n",
    "plt.title('Use of Machine Learning in published Research by Title\\n', fontsize=15, fontweight='bold', ha='center', fontname = 'arial', color = '#C41E3A')\n",
    "plt.grid(alpha=0.3)\n",
    "plt.xticks([0, 1, 2], labels, fontsize=9, fontweight='bold')\n",
    "plt.yticks(fontsize=9, fontweight='bold')\n",
    "\n",
    "plt.legend(loc='center left', bbox_to_anchor=(1, 0.5))\n",
    "\n",
    "plt.savefig('./charts/Use of ML.png')\n",
    "plt.close('all')"
   ]
  },
  {
   "cell_type": "code",
   "execution_count": null,
   "metadata": {},
   "outputs": [],
   "source": [
    "import plotly.graph_objects as go\n",
    "import plotly.express as px\n",
    " \n",
    "value_range = [0, 55]\n",
    " \n",
    "dimensions = [\n",
    "    dict(\n",
    "        range=[0, ml_used.index.max()],\n",
    "        label='<b>Title</b>',\n",
    "        values=ml_used.index,\n",
    "        tickvals = ml_used.index,\n",
    "        ticktext = ml_used['title'],\n",
    "    ),\n",
    "    dict(\n",
    "        range=value_range,\n",
    "        label='<b>% Theoretical Research</b>',\n",
    "        values=ml_used['pct_theoretical']\n",
    "    ),\n",
    "    dict(\n",
    "        range=value_range,\n",
    "        label='<b>% Applied Research</b>',\n",
    "        values=ml_used['pct_applied']\n",
    "    ),\n",
    "    dict(\n",
    "        range=value_range,\n",
    "        label='<b>% Not used</b>',\n",
    "        values=ml_used['pct_no']\n",
    "    ),\n",
    "]\n",
    " \n",
    "fig = go.Figure(\n",
    "    data=go.Parcoords(\n",
    "        line=dict(\n",
    "            color=ml_used.index,\n",
    "            colorscale=px.colors.qualitative.G10,\n",
    "        ),\n",
    "        dimensions=dimensions,\n",
    "    ),\n",
    ")\n",
    " \n",
    "fig.update_layout(\n",
    "    autosize=False,\n",
    "    width=800,\n",
    "    height=500,\n",
    "    margin=dict(\n",
    "        l=150,\n",
    "        b=50,\n",
    "        t=100,\n",
    "    ),\n",
    "    title='<b>Use of Machine Learning in published research by title</b>',\n",
    "    title_font_size=20,\n",
    "    title_x=0.5,\n",
    "    title_font_family = 'arial',\n",
    "    title_font_color = '#C41E3A',\n",
    ")\n",
    " \n",
    "fig.show()\n",
    " \n",
    "fig.write_image('./charts/Use of ML in research_PL.png', scale=2)"
   ]
  },
  {
   "cell_type": "markdown",
   "metadata": {},
   "source": [
    "## 3.Essential tasks and skill sets per Role"
   ]
  },
  {
   "cell_type": "code",
   "execution_count": null,
   "metadata": {},
   "outputs": [],
   "source": [
    "# Load packages\n",
    "import pandas as pd\n",
    "import numpy as np\n",
    "import plotly\n",
    "import plotly.graph_objects as go\n",
    "import plotly.express as px\n",
    "import matplotlib.colors"
   ]
  },
  {
   "cell_type": "code",
   "execution_count": null,
   "metadata": {},
   "outputs": [],
   "source": [
    "df.head()"
   ]
  },
  {
   "cell_type": "code",
   "execution_count": null,
   "metadata": {},
   "outputs": [],
   "source": [
    "title_count = df.groupby('title').size()\n",
    "title_count"
   ]
  },
  {
   "cell_type": "code",
   "execution_count": null,
   "metadata": {},
   "outputs": [],
   "source": [
    "python = df.groupby('title')['program_lang_Python'].count()\n",
    "python"
   ]
  },
  {
   "cell_type": "code",
   "execution_count": null,
   "metadata": {},
   "outputs": [],
   "source": [
    "tasks = [\n",
    "    'task_ Analyze and understand data to influence product or business decisions',\n",
    "    'task_ Build and/or run the data infrastructure that my business uses for storing, analyzing, and operationalizing data',\n",
    "    'task_ Build prototypes to explore applying machine learning to new areas',\n",
    "    'task_ Build and/or run a machine learning service that operationally improves my product or workflows',\n",
    "    'task_ Experimentation and iteration to improve existing ML models',\n",
    "    'task_ Do research that advances the state of the art of machine learning',\n",
    "    'task_ None of these activities are an important part of my role at work',\n",
    "]\n",
    "\n",
    "languages = [\n",
    "    'program_lang_Python',\n",
    "    'program_lang_R',\n",
    "    'program_lang_SQL',\n",
    "    'program_lang_C',\n",
    "    'program_lang_C#',\n",
    "    'program_lang_C++',\n",
    "    'program_lang_Java',\n",
    "    'program_lang_Javascript',\n",
    "    'program_lang_Bash',\n",
    "    'program_lang_PHP',\n",
    "    'program_lang_MATLAB',\n",
    "    'program_lang_Julia',\n",
    "    'program_lang_Go',\n",
    "]\n",
    "\n",
    "titles = df['title'].unique().tolist()\n",
    "titles.remove('Other')\n",
    "\n",
    "language_task_df = []\n",
    "for task in tasks:\n",
    "    for language in languages:\n",
    "        language_task_df.append([language.replace('program_lang_', ''), task.split('_')[1][1:], df[df[task].notna() & df[language].notna()].shape[0]])\n",
    "\n",
    "title_language_df = []\n",
    "for title in titles:\n",
    "    for language in languages:\n",
    "        title_language_df.append([title, language.replace('program_lang_', ''), df.query('title == @title').dropna(subset=[language]).shape[0] / df.query('title == @title').shape[0]])\n",
    "\n",
    "title_task_df = []\n",
    "for title in titles:\n",
    "    for task in tasks:\n",
    "        title_task_df.append([title, task.split('_')[1][1:], df.query('title == @title').dropna(subset=[task]).shape[0] / df.query('title == @title').shape[0]])\n",
    "\n",
    "language_task_df = pd.DataFrame(language_task_df, columns=['source', 'target', 'value'])\n",
    "title_language_df = pd.DataFrame(title_language_df, columns=['source', 'target', 'value'])\n",
    "title_task_df = pd.DataFrame(title_task_df, columns=['source', 'target', 'value'])\n",
    "\n",
    "sankey_df = pd.concat([language_task_df, title_language_df], ignore_index=True)\n",
    "sankey_df"
   ]
  },
  {
   "cell_type": "code",
   "execution_count": null,
   "metadata": {},
   "outputs": [],
   "source": [
    "sankey_df"
   ]
  },
  {
   "cell_type": "code",
   "execution_count": null,
   "metadata": {},
   "outputs": [],
   "source": [
    "# Text to numeric for sankey plot\n",
    "labels = set(sankey_df['source'].unique().tolist() + sankey_df['target'].unique().tolist())\n",
    "label_code = {label: code for code, label in enumerate(labels)}\n",
    "\n",
    "sankey_df['source_code'] = sankey_df['source'].map(label_code)\n",
    "sankey_df['target_code'] = sankey_df['target'].map(label_code)\n",
    "sankey_df"
   ]
  },
  {
   "cell_type": "code",
   "execution_count": null,
   "metadata": {},
   "outputs": [],
   "source": [
    "# import plotly.graph_objects as go\n",
    "\n",
    "# fig = go.Figure(data=[go.Sankey(\n",
    "#     node=dict(\n",
    "#       pad=15,\n",
    "#       thickness=20,\n",
    "#       line=dict(color=\"black\", width=0.5),\n",
    "#       label=list(labels),\n",
    "#       color=\"blue\"\n",
    "#     ),\n",
    "#     link=dict(\n",
    "#       source=sankey_df['source_code'].tolist(), # indices correspond to labels, eg A1, A2, A1, B1, ...\n",
    "#       target=sankey_df['target_code'].tolist(),\n",
    "#       value=sankey_df['value'].tolist(),\n",
    "#   ))])\n",
    "\n",
    "# fig.update_layout(title_text=\"Basic Sankey Diagram\", font_size=10)\n",
    "# fig.show()"
   ]
  },
  {
   "cell_type": "code",
   "execution_count": null,
   "metadata": {},
   "outputs": [],
   "source": [
    "lang_heatmap = title_language_df.pivot(columns='source', index='target')\n",
    "lang_heatmap.columns = [x[1] for x in lang_heatmap.columns]\n",
    "fig, axs = plt.subplots(figsize=(15, 9))\n",
    "sns.heatmap(lang_heatmap.T, annot=True, cmap='Blues', fmt='.2%', ax=axs)"
   ]
  },
  {
   "cell_type": "code",
   "execution_count": null,
   "metadata": {},
   "outputs": [],
   "source": [
    "task_heatmap = title_task_df.pivot(columns='source', index='target')\n",
    "task_heatmap.columns = [x[1] for x in task_heatmap.columns]\n",
    "task_heatmap.index = [\n",
    "    'Analyse data',\n",
    "    'Build ML services',\n",
    "    'Build data infra',\n",
    "    'Build ML prototypes',\n",
    "    'Research',\n",
    "    'Improve ML models',\n",
    "    'None'\n",
    "]\n",
    "sns.heatmap(task_heatmap.T, annot=True, cmap='Blues')"
   ]
  },
  {
   "cell_type": "code",
   "execution_count": null,
   "metadata": {},
   "outputs": [],
   "source": [
    "import warnings\n",
    "warnings.filterwarnings('ignore')\n",
    "\n",
    "selected_langs = ['Python', 'R', 'SQL']\n",
    "fig = px.line_polar(\n",
    "    (\n",
    "        title_language_df\n",
    "        .query('target in @selected_langs')\n",
    "    ),\n",
    "    r='value',\n",
    "    range_r=[0, 1],\n",
    "    color='target',\n",
    "    theta='source',\n",
    "    line_close=True,\n",
    "    color_discrete_sequence=px.colors.qualitative.G10\n",
    ")\n",
    "\n",
    "fig.update_layout(\n",
    "    legend_title_text='Programming Language',\n",
    "    autosize=False,\n",
    "    width=1000,\n",
    "    height=400,\n",
    "    margin=dict(\n",
    "        t=100,\n",
    "    ),\n",
    "    title='<b>Use of technologies by title</b>',\n",
    "    title_font_size=20,\n",
    "    title_x=0.5,\n",
    "    title_font_family = 'arial',\n",
    "    title_font_color = '#C41E3A',\n",
    ")\n",
    "\n",
    "fig.write_image('./charts/Use of technologies1.png', scale=2)"
   ]
  },
  {
   "cell_type": "code",
   "execution_count": null,
   "metadata": {},
   "outputs": [],
   "source": [
    "df['ml_algo_Neural Networks'] = df[[\n",
    "    'ml_algo_Dense Neural Networks (MLPs, etc)',\n",
    "    'ml_algo_Convolutional Neural Networks',\n",
    "    'ml_algo_Generative Adversarial Networks',\n",
    "    'ml_algo_Recurrent Neural Networks',\n",
    "    'ml_algo_Transformer Networks (BERT, gpt, etc)',\n",
    "    'ml_algo_Autoencoder Networks (DAE, VAE, etc)',\n",
    "    'ml_algo_Graph Neural Networks',\n",
    "]].any(axis=1).replace(False, np.nan)\n",
    "\n",
    "df['ml_algo_trees'] = df[[\n",
    "    'ml_algo_Decision Trees or Random Forests',\n",
    "    'ml_algo_Gradient Boosting Machines (xgboost, lightgbm, etc)',\n",
    "]].any(axis=1).replace(False, np.nan)"
   ]
  },
  {
   "cell_type": "code",
   "execution_count": null,
   "metadata": {},
   "outputs": [],
   "source": [
    "algo_mapping = {\n",
    "    'ml_algo_Linear or Logistic Regression': 'Linear/Logistic Regression',\n",
    "    'ml_algo_Decision Trees or Random Forests': 'Decision Trees/Random Forests',\n",
    "    'ml_algo_Gradient Boosting Machines (xgboost, lightgbm, etc)': 'Gradient Boosting Machines',\n",
    "    'ml_algo_Neural Networks': 'Neural Networks',\n",
    "}\n",
    "\n",
    "title_algo_df = []\n",
    "for title in titles:\n",
    "    for algo in algo_mapping.keys():\n",
    "        title_algo_df.append([title, algo_mapping[algo], df.query('title == @title').dropna(subset=[algo]).shape[0] / df.query('title == @title').shape[0]])\n",
    "\n",
    "title_algo_df = pd.DataFrame(title_algo_df, columns=['title', 'Algorithm', 'value'])"
   ]
  },
  {
   "cell_type": "code",
   "execution_count": null,
   "metadata": {},
   "outputs": [],
   "source": [
    "fig2 = px.line_polar(\n",
    "    title_algo_df,\n",
    "    r='value',\n",
    "    color='Algorithm',\n",
    "    theta='title',\n",
    "    line_close=True,\n",
    "    color_discrete_sequence=px.colors.qualitative.G10\n",
    ")\n",
    "\n",
    "fig2.update_layout(\n",
    "    autosize=False,\n",
    "    width=1000,\n",
    "    height=400,\n",
    ")\n",
    "\n",
    "fig2.write_image('./charts/Use of technologies2.png', scale=2)"
   ]
  },
  {
   "cell_type": "code",
   "execution_count": null,
   "metadata": {},
   "outputs": [],
   "source": [
    "cloud_mapping = {\n",
    "    'cloud_platform_AmazonWebServices(AWS)': 'AWS',\n",
    "    'cloud_platform_MicrosoftAzure': 'Azure',\n",
    "    'cloud_platform_GoogleCloudPlatform(GCP)': 'GCP',\n",
    "}\n",
    "\n",
    "title_cloud_df = []\n",
    "for title in titles:\n",
    "    for cloud in cloud_mapping.keys():\n",
    "        title_cloud_df.append([title, cloud_mapping[cloud], df.query('title == @title').dropna(subset=[cloud]).shape[0] / df.query('title == @title').shape[0]])\n",
    "\n",
    "title_cloud_df = pd.DataFrame(title_cloud_df, columns=['title', 'Cloud Platform', 'value'])\n"
   ]
  },
  {
   "cell_type": "code",
   "execution_count": null,
   "metadata": {},
   "outputs": [],
   "source": [
    "fig3 = px.line_polar(\n",
    "    title_cloud_df,\n",
    "    r='value',\n",
    "    color='Cloud Platform',\n",
    "    theta='title',\n",
    "    line_close=True,\n",
    "    color_discrete_sequence=px.colors.qualitative.G10\n",
    ")\n",
    "\n",
    "fig3.update_layout(\n",
    "    autosize=False,\n",
    "    width=1000,\n",
    "    height=400,\n",
    ")\n",
    "\n",
    "fig3.write_image('./charts/Use of technologies3.png', scale=2)"
   ]
  },
  {
   "cell_type": "code",
   "execution_count": null,
   "metadata": {},
   "outputs": [],
   "source": []
  }
 ],
 "metadata": {
  "kernelspec": {
   "display_name": "Python 3.10.4 ('conda_3_10')",
   "language": "python",
   "name": "python3"
  },
  "language_info": {
   "codemirror_mode": {
    "name": "ipython",
    "version": 3
   },
   "file_extension": ".py",
   "mimetype": "text/x-python",
   "name": "python",
   "nbconvert_exporter": "python",
   "pygments_lexer": "ipython3",
   "version": "3.10.4"
  },
  "orig_nbformat": 4,
  "vscode": {
   "interpreter": {
    "hash": "8b9ff4162452091f6c2528883ae61dc6ecfac2061e6f2887e38ff166f42f8ecf"
   }
  }
 },
 "nbformat": 4,
 "nbformat_minor": 2
}
