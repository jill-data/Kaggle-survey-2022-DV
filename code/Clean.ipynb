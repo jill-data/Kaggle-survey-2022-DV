{
 "cells": [
  {
   "cell_type": "code",
   "execution_count": 1,
   "metadata": {},
   "outputs": [],
   "source": [
    "import warnings\n",
    "import textwrap\n",
    "import numpy as np\n",
    "import pandas as pd\n",
    "import matplotlib.pyplot as plt\n",
    "import matplotlib.patches as patches\n",
    "import statsmodels.api as sm\n",
    "import statsmodels.formula.api as smf\n",
    "import numpy\n",
    "from matplotlib import pyplot, transforms\n",
    "from matplotlib.text import OffsetFrom"
   ]
  },
  {
   "cell_type": "code",
   "execution_count": 2,
   "metadata": {},
   "outputs": [
    {
     "name": "stderr",
     "output_type": "stream",
     "text": [
      "/var/folders/4c/6jy3z6sn7zg_n_24fwj6v_xw0000gn/T/ipykernel_80538/2989873918.py:1: DtypeWarning: Columns (208,225,255,257,260,270,271,277) have mixed types. Specify dtype option on import or set low_memory=False.\n",
      "  df = pd.read_csv('./data/kaggle_survey_2022_responses.csv', skiprows=[0])\n"
     ]
    }
   ],
   "source": [
    "df = pd.read_csv('./data/kaggle_survey_2022_responses.csv', skiprows=[0])"
   ]
  },
  {
   "cell_type": "markdown",
   "metadata": {},
   "source": [
    "# Data cleaning"
   ]
  },
  {
   "cell_type": "markdown",
   "metadata": {},
   "source": [
    "## Columns"
   ]
  },
  {
   "cell_type": "code",
   "execution_count": 3,
   "metadata": {},
   "outputs": [],
   "source": [
    "col_mapping = pd.read_csv('./data/column_mapping.csv')"
   ]
  },
  {
   "cell_type": "code",
   "execution_count": 4,
   "metadata": {},
   "outputs": [],
   "source": [
    "col_mapping_dict = {k:v for k, v in col_mapping.dropna().values}"
   ]
  },
  {
   "cell_type": "code",
   "execution_count": 5,
   "metadata": {},
   "outputs": [],
   "source": [
    "df = df[col_mapping_dict.keys()].rename(columns=col_mapping_dict)"
   ]
  },
  {
   "cell_type": "markdown",
   "metadata": {},
   "source": [
    "## Select data professionalas only\n"
   ]
  },
  {
   "cell_type": "code",
   "execution_count": 6,
   "metadata": {},
   "outputs": [],
   "source": [
    "pos_mapping = pd.read_csv('./data/position_mapping.csv')\n",
    "pos_maping_dict = {k:v for k, v in pos_mapping.dropna().values}"
   ]
  },
  {
   "cell_type": "code",
   "execution_count": 7,
   "metadata": {},
   "outputs": [],
   "source": [
    "df['title'] = df['title'].map(pos_maping_dict)"
   ]
  },
  {
   "cell_type": "code",
   "execution_count": 8,
   "metadata": {},
   "outputs": [],
   "source": [
    "df = df.query('student == \"No\"')"
   ]
  },
  {
   "cell_type": "code",
   "execution_count": 9,
   "metadata": {},
   "outputs": [
    {
     "data": {
      "text/html": [
       "<div>\n",
       "<style scoped>\n",
       "    .dataframe tbody tr th:only-of-type {\n",
       "        vertical-align: middle;\n",
       "    }\n",
       "\n",
       "    .dataframe tbody tr th {\n",
       "        vertical-align: top;\n",
       "    }\n",
       "\n",
       "    .dataframe thead th {\n",
       "        text-align: right;\n",
       "    }\n",
       "</style>\n",
       "<table border=\"1\" class=\"dataframe\">\n",
       "  <thead>\n",
       "    <tr style=\"text-align: right;\">\n",
       "      <th></th>\n",
       "      <th>age</th>\n",
       "      <th>gender</th>\n",
       "      <th>country</th>\n",
       "      <th>education_level</th>\n",
       "      <th>published</th>\n",
       "      <th>ml_used_theoretical</th>\n",
       "      <th>ml_used_applied</th>\n",
       "      <th>ml_used_no</th>\n",
       "      <th>code_exp</th>\n",
       "      <th>program_lang_Python</th>\n",
       "      <th>...</th>\n",
       "      <th>cloud_platform_GoogleCloudPlatform(GCP)</th>\n",
       "      <th>cloud_platform_IBMCloud/RedHat</th>\n",
       "      <th>cloud_platform_OracleCloud</th>\n",
       "      <th>cloud_platform_SAPCloud</th>\n",
       "      <th>cloud_platform_VMwareCloud</th>\n",
       "      <th>cloud_platform_AlibabaCloud</th>\n",
       "      <th>cloud_platform_TencentCloud</th>\n",
       "      <th>cloud_platform_HuaweiCloud</th>\n",
       "      <th>cloud_platform_None</th>\n",
       "      <th>cloud_platform_Other</th>\n",
       "    </tr>\n",
       "  </thead>\n",
       "  <tbody>\n",
       "    <tr>\n",
       "      <th>0</th>\n",
       "      <td>30-34</td>\n",
       "      <td>Man</td>\n",
       "      <td>India</td>\n",
       "      <td>NaN</td>\n",
       "      <td>NaN</td>\n",
       "      <td>NaN</td>\n",
       "      <td>NaN</td>\n",
       "      <td>NaN</td>\n",
       "      <td>NaN</td>\n",
       "      <td>NaN</td>\n",
       "      <td>...</td>\n",
       "      <td>NaN</td>\n",
       "      <td>NaN</td>\n",
       "      <td>NaN</td>\n",
       "      <td>NaN</td>\n",
       "      <td>NaN</td>\n",
       "      <td>NaN</td>\n",
       "      <td>NaN</td>\n",
       "      <td>NaN</td>\n",
       "      <td>NaN</td>\n",
       "      <td>NaN</td>\n",
       "    </tr>\n",
       "    <tr>\n",
       "      <th>1</th>\n",
       "      <td>30-34</td>\n",
       "      <td>Man</td>\n",
       "      <td>Algeria</td>\n",
       "      <td>Master’s degree</td>\n",
       "      <td>Yes</td>\n",
       "      <td>NaN</td>\n",
       "      <td>NaN</td>\n",
       "      <td>No</td>\n",
       "      <td>1-3 years</td>\n",
       "      <td>NaN</td>\n",
       "      <td>...</td>\n",
       "      <td>NaN</td>\n",
       "      <td>NaN</td>\n",
       "      <td>NaN</td>\n",
       "      <td>NaN</td>\n",
       "      <td>NaN</td>\n",
       "      <td>NaN</td>\n",
       "      <td>NaN</td>\n",
       "      <td>NaN</td>\n",
       "      <td>NaN</td>\n",
       "      <td>NaN</td>\n",
       "    </tr>\n",
       "    <tr>\n",
       "      <th>3</th>\n",
       "      <td>55-59</td>\n",
       "      <td>Man</td>\n",
       "      <td>France</td>\n",
       "      <td>Some college/university study without earning ...</td>\n",
       "      <td>NaN</td>\n",
       "      <td>NaN</td>\n",
       "      <td>NaN</td>\n",
       "      <td>NaN</td>\n",
       "      <td>10-20 years</td>\n",
       "      <td>Python</td>\n",
       "      <td>...</td>\n",
       "      <td>NaN</td>\n",
       "      <td>NaN</td>\n",
       "      <td>NaN</td>\n",
       "      <td>NaN</td>\n",
       "      <td>NaN</td>\n",
       "      <td>NaN</td>\n",
       "      <td>NaN</td>\n",
       "      <td>NaN</td>\n",
       "      <td>NaN</td>\n",
       "      <td>Other</td>\n",
       "    </tr>\n",
       "  </tbody>\n",
       "</table>\n",
       "<p>3 rows × 65 columns</p>\n",
       "</div>"
      ],
      "text/plain": [
       "     age gender  country                                    education_level  \\\n",
       "0  30-34    Man    India                                                NaN   \n",
       "1  30-34    Man  Algeria                                    Master’s degree   \n",
       "3  55-59    Man   France  Some college/university study without earning ...   \n",
       "\n",
       "  published ml_used_theoretical ml_used_applied ml_used_no     code_exp  \\\n",
       "0       NaN                 NaN             NaN        NaN          NaN   \n",
       "1       Yes                 NaN             NaN         No    1-3 years   \n",
       "3       NaN                 NaN             NaN        NaN  10-20 years   \n",
       "\n",
       "  program_lang_Python  ... cloud_platform_GoogleCloudPlatform(GCP)  \\\n",
       "0                 NaN  ...                                     NaN   \n",
       "1                 NaN  ...                                     NaN   \n",
       "3              Python  ...                                     NaN   \n",
       "\n",
       "  cloud_platform_IBMCloud/RedHat cloud_platform_OracleCloud  \\\n",
       "0                            NaN                        NaN   \n",
       "1                            NaN                        NaN   \n",
       "3                            NaN                        NaN   \n",
       "\n",
       "  cloud_platform_SAPCloud cloud_platform_VMwareCloud  \\\n",
       "0                     NaN                        NaN   \n",
       "1                     NaN                        NaN   \n",
       "3                     NaN                        NaN   \n",
       "\n",
       "  cloud_platform_AlibabaCloud cloud_platform_TencentCloud  \\\n",
       "0                         NaN                         NaN   \n",
       "1                         NaN                         NaN   \n",
       "3                         NaN                         NaN   \n",
       "\n",
       "  cloud_platform_HuaweiCloud cloud_platform_None cloud_platform_Other  \n",
       "0                        NaN                 NaN                  NaN  \n",
       "1                        NaN                 NaN                  NaN  \n",
       "3                        NaN                 NaN                Other  \n",
       "\n",
       "[3 rows x 65 columns]"
      ]
     },
     "execution_count": 9,
     "metadata": {},
     "output_type": "execute_result"
    }
   ],
   "source": [
    "#Drop the column student after filtering to focus on industry insights from professionals\n",
    "df = df.drop(columns=['student'])\n",
    "df.head(3)"
   ]
  },
  {
   "cell_type": "code",
   "execution_count": 10,
   "metadata": {},
   "outputs": [],
   "source": [
    "df = df.query('title.notna() and title != \"Currently not employed\"')\n"
   ]
  },
  {
   "cell_type": "code",
   "execution_count": 11,
   "metadata": {},
   "outputs": [
    {
     "data": {
      "text/plain": [
       "array(['Data Scientist', 'Software Engineer', 'Research Scientist',\n",
       "       'Other', 'Developer Advocate', 'Data Analyst', 'Data Engineer',\n",
       "       'ML/MLops Engineer', 'Engineer (non-software)',\n",
       "       'Teacher/professor', 'Statistician', 'Manager',\n",
       "       'Data Administrator', 'Data Architect'], dtype=object)"
      ]
     },
     "execution_count": 11,
     "metadata": {},
     "output_type": "execute_result"
    }
   ],
   "source": [
    "df['title'].unique()"
   ]
  },
  {
   "cell_type": "code",
   "execution_count": 12,
   "metadata": {},
   "outputs": [
    {
     "data": {
      "text/html": [
       "<div>\n",
       "<style scoped>\n",
       "    .dataframe tbody tr th:only-of-type {\n",
       "        vertical-align: middle;\n",
       "    }\n",
       "\n",
       "    .dataframe tbody tr th {\n",
       "        vertical-align: top;\n",
       "    }\n",
       "\n",
       "    .dataframe thead th {\n",
       "        text-align: right;\n",
       "    }\n",
       "</style>\n",
       "<table border=\"1\" class=\"dataframe\">\n",
       "  <thead>\n",
       "    <tr style=\"text-align: right;\">\n",
       "      <th></th>\n",
       "      <th>age</th>\n",
       "      <th>gender</th>\n",
       "      <th>country</th>\n",
       "      <th>education_level</th>\n",
       "      <th>published</th>\n",
       "      <th>ml_used_theoretical</th>\n",
       "      <th>ml_used_applied</th>\n",
       "      <th>ml_used_no</th>\n",
       "      <th>code_exp</th>\n",
       "      <th>program_lang_Python</th>\n",
       "      <th>...</th>\n",
       "      <th>cloud_platform_GoogleCloudPlatform(GCP)</th>\n",
       "      <th>cloud_platform_IBMCloud/RedHat</th>\n",
       "      <th>cloud_platform_OracleCloud</th>\n",
       "      <th>cloud_platform_SAPCloud</th>\n",
       "      <th>cloud_platform_VMwareCloud</th>\n",
       "      <th>cloud_platform_AlibabaCloud</th>\n",
       "      <th>cloud_platform_TencentCloud</th>\n",
       "      <th>cloud_platform_HuaweiCloud</th>\n",
       "      <th>cloud_platform_None</th>\n",
       "      <th>cloud_platform_Other</th>\n",
       "    </tr>\n",
       "  </thead>\n",
       "  <tbody>\n",
       "    <tr>\n",
       "      <th>3</th>\n",
       "      <td>55-59</td>\n",
       "      <td>Man</td>\n",
       "      <td>France</td>\n",
       "      <td>Some college/university study without earning ...</td>\n",
       "      <td>NaN</td>\n",
       "      <td>NaN</td>\n",
       "      <td>NaN</td>\n",
       "      <td>NaN</td>\n",
       "      <td>10-20 years</td>\n",
       "      <td>Python</td>\n",
       "      <td>...</td>\n",
       "      <td>NaN</td>\n",
       "      <td>NaN</td>\n",
       "      <td>NaN</td>\n",
       "      <td>NaN</td>\n",
       "      <td>NaN</td>\n",
       "      <td>NaN</td>\n",
       "      <td>NaN</td>\n",
       "      <td>NaN</td>\n",
       "      <td>NaN</td>\n",
       "      <td>Other</td>\n",
       "    </tr>\n",
       "    <tr>\n",
       "      <th>7</th>\n",
       "      <td>30-34</td>\n",
       "      <td>Man</td>\n",
       "      <td>Germany</td>\n",
       "      <td>Bachelor’s degree</td>\n",
       "      <td>NaN</td>\n",
       "      <td>NaN</td>\n",
       "      <td>NaN</td>\n",
       "      <td>NaN</td>\n",
       "      <td>10-20 years</td>\n",
       "      <td>Python</td>\n",
       "      <td>...</td>\n",
       "      <td>NaN</td>\n",
       "      <td>NaN</td>\n",
       "      <td>NaN</td>\n",
       "      <td>NaN</td>\n",
       "      <td>NaN</td>\n",
       "      <td>NaN</td>\n",
       "      <td>NaN</td>\n",
       "      <td>NaN</td>\n",
       "      <td>NaN</td>\n",
       "      <td>NaN</td>\n",
       "    </tr>\n",
       "    <tr>\n",
       "      <th>8</th>\n",
       "      <td>70+</td>\n",
       "      <td>Man</td>\n",
       "      <td>Australia</td>\n",
       "      <td>Doctoral degree</td>\n",
       "      <td>Yes</td>\n",
       "      <td>NaN</td>\n",
       "      <td>Yes, the research made use of machine learning...</td>\n",
       "      <td>NaN</td>\n",
       "      <td>20+ years</td>\n",
       "      <td>Python</td>\n",
       "      <td>...</td>\n",
       "      <td>Google Cloud Platform (GCP)</td>\n",
       "      <td>NaN</td>\n",
       "      <td>NaN</td>\n",
       "      <td>NaN</td>\n",
       "      <td>NaN</td>\n",
       "      <td>NaN</td>\n",
       "      <td>NaN</td>\n",
       "      <td>NaN</td>\n",
       "      <td>NaN</td>\n",
       "      <td>NaN</td>\n",
       "    </tr>\n",
       "  </tbody>\n",
       "</table>\n",
       "<p>3 rows × 65 columns</p>\n",
       "</div>"
      ],
      "text/plain": [
       "     age gender    country                                    education_level  \\\n",
       "3  55-59    Man     France  Some college/university study without earning ...   \n",
       "7  30-34    Man    Germany                                  Bachelor’s degree   \n",
       "8    70+    Man  Australia                                    Doctoral degree   \n",
       "\n",
       "  published ml_used_theoretical  \\\n",
       "3       NaN                 NaN   \n",
       "7       NaN                 NaN   \n",
       "8       Yes                 NaN   \n",
       "\n",
       "                                     ml_used_applied ml_used_no     code_exp  \\\n",
       "3                                                NaN        NaN  10-20 years   \n",
       "7                                                NaN        NaN  10-20 years   \n",
       "8  Yes, the research made use of machine learning...        NaN    20+ years   \n",
       "\n",
       "  program_lang_Python  ... cloud_platform_GoogleCloudPlatform(GCP)  \\\n",
       "3              Python  ...                                     NaN   \n",
       "7              Python  ...                                     NaN   \n",
       "8              Python  ...            Google Cloud Platform (GCP)    \n",
       "\n",
       "  cloud_platform_IBMCloud/RedHat cloud_platform_OracleCloud  \\\n",
       "3                            NaN                        NaN   \n",
       "7                            NaN                        NaN   \n",
       "8                            NaN                        NaN   \n",
       "\n",
       "  cloud_platform_SAPCloud cloud_platform_VMwareCloud  \\\n",
       "3                     NaN                        NaN   \n",
       "7                     NaN                        NaN   \n",
       "8                     NaN                        NaN   \n",
       "\n",
       "  cloud_platform_AlibabaCloud cloud_platform_TencentCloud  \\\n",
       "3                         NaN                         NaN   \n",
       "7                         NaN                         NaN   \n",
       "8                         NaN                         NaN   \n",
       "\n",
       "  cloud_platform_HuaweiCloud cloud_platform_None cloud_platform_Other  \n",
       "3                        NaN                 NaN                Other  \n",
       "7                        NaN                 NaN                  NaN  \n",
       "8                        NaN                 NaN                  NaN  \n",
       "\n",
       "[3 rows x 65 columns]"
      ]
     },
     "execution_count": 12,
     "metadata": {},
     "output_type": "execute_result"
    }
   ],
   "source": [
    "df = df.query('industry.notna()')\n",
    "df.head(3)"
   ]
  },
  {
   "cell_type": "code",
   "execution_count": 13,
   "metadata": {},
   "outputs": [
    {
     "data": {
      "text/html": [
       "<div>\n",
       "<style scoped>\n",
       "    .dataframe tbody tr th:only-of-type {\n",
       "        vertical-align: middle;\n",
       "    }\n",
       "\n",
       "    .dataframe tbody tr th {\n",
       "        vertical-align: top;\n",
       "    }\n",
       "\n",
       "    .dataframe thead th {\n",
       "        text-align: right;\n",
       "    }\n",
       "</style>\n",
       "<table border=\"1\" class=\"dataframe\">\n",
       "  <thead>\n",
       "    <tr style=\"text-align: right;\">\n",
       "      <th></th>\n",
       "      <th>index</th>\n",
       "      <th>country</th>\n",
       "    </tr>\n",
       "  </thead>\n",
       "  <tbody>\n",
       "    <tr>\n",
       "      <th>0</th>\n",
       "      <td>India</td>\n",
       "      <td>2678</td>\n",
       "    </tr>\n",
       "    <tr>\n",
       "      <th>1</th>\n",
       "      <td>United States of America</td>\n",
       "      <td>1586</td>\n",
       "    </tr>\n",
       "    <tr>\n",
       "      <th>2</th>\n",
       "      <td>Other</td>\n",
       "      <td>579</td>\n",
       "    </tr>\n",
       "    <tr>\n",
       "      <th>3</th>\n",
       "      <td>Japan</td>\n",
       "      <td>370</td>\n",
       "    </tr>\n",
       "    <tr>\n",
       "      <th>4</th>\n",
       "      <td>Brazil</td>\n",
       "      <td>315</td>\n",
       "    </tr>\n",
       "    <tr>\n",
       "      <th>5</th>\n",
       "      <td>Nigeria</td>\n",
       "      <td>168</td>\n",
       "    </tr>\n",
       "    <tr>\n",
       "      <th>6</th>\n",
       "      <td>France</td>\n",
       "      <td>160</td>\n",
       "    </tr>\n",
       "    <tr>\n",
       "      <th>7</th>\n",
       "      <td>United Kingdom of Great Britain and Northern I...</td>\n",
       "      <td>150</td>\n",
       "    </tr>\n",
       "    <tr>\n",
       "      <th>8</th>\n",
       "      <td>Spain</td>\n",
       "      <td>150</td>\n",
       "    </tr>\n",
       "    <tr>\n",
       "      <th>9</th>\n",
       "      <td>Mexico</td>\n",
       "      <td>149</td>\n",
       "    </tr>\n",
       "    <tr>\n",
       "      <th>10</th>\n",
       "      <td>South Korea</td>\n",
       "      <td>145</td>\n",
       "    </tr>\n",
       "    <tr>\n",
       "      <th>11</th>\n",
       "      <td>Pakistan</td>\n",
       "      <td>144</td>\n",
       "    </tr>\n",
       "    <tr>\n",
       "      <th>12</th>\n",
       "      <td>Turkey</td>\n",
       "      <td>132</td>\n",
       "    </tr>\n",
       "    <tr>\n",
       "      <th>13</th>\n",
       "      <td>Canada</td>\n",
       "      <td>126</td>\n",
       "    </tr>\n",
       "    <tr>\n",
       "      <th>14</th>\n",
       "      <td>China</td>\n",
       "      <td>124</td>\n",
       "    </tr>\n",
       "    <tr>\n",
       "      <th>15</th>\n",
       "      <td>Taiwan</td>\n",
       "      <td>121</td>\n",
       "    </tr>\n",
       "    <tr>\n",
       "      <th>16</th>\n",
       "      <td>Indonesia</td>\n",
       "      <td>111</td>\n",
       "    </tr>\n",
       "    <tr>\n",
       "      <th>17</th>\n",
       "      <td>Russia</td>\n",
       "      <td>111</td>\n",
       "    </tr>\n",
       "    <tr>\n",
       "      <th>18</th>\n",
       "      <td>Egypt</td>\n",
       "      <td>104</td>\n",
       "    </tr>\n",
       "    <tr>\n",
       "      <th>19</th>\n",
       "      <td>Italy</td>\n",
       "      <td>103</td>\n",
       "    </tr>\n",
       "    <tr>\n",
       "      <th>20</th>\n",
       "      <td>Colombia</td>\n",
       "      <td>94</td>\n",
       "    </tr>\n",
       "    <tr>\n",
       "      <th>21</th>\n",
       "      <td>Netherlands</td>\n",
       "      <td>84</td>\n",
       "    </tr>\n",
       "    <tr>\n",
       "      <th>22</th>\n",
       "      <td>Argentina</td>\n",
       "      <td>78</td>\n",
       "    </tr>\n",
       "    <tr>\n",
       "      <th>23</th>\n",
       "      <td>Poland</td>\n",
       "      <td>78</td>\n",
       "    </tr>\n",
       "    <tr>\n",
       "      <th>24</th>\n",
       "      <td>Australia</td>\n",
       "      <td>66</td>\n",
       "    </tr>\n",
       "    <tr>\n",
       "      <th>25</th>\n",
       "      <td>Viet Nam</td>\n",
       "      <td>60</td>\n",
       "    </tr>\n",
       "    <tr>\n",
       "      <th>26</th>\n",
       "      <td>Germany</td>\n",
       "      <td>58</td>\n",
       "    </tr>\n",
       "    <tr>\n",
       "      <th>27</th>\n",
       "      <td>United Arab Emirates</td>\n",
       "      <td>58</td>\n",
       "    </tr>\n",
       "    <tr>\n",
       "      <th>28</th>\n",
       "      <td>Thailand</td>\n",
       "      <td>56</td>\n",
       "    </tr>\n",
       "    <tr>\n",
       "      <th>29</th>\n",
       "      <td>Chile</td>\n",
       "      <td>56</td>\n",
       "    </tr>\n",
       "    <tr>\n",
       "      <th>30</th>\n",
       "      <td>Bangladesh</td>\n",
       "      <td>49</td>\n",
       "    </tr>\n",
       "    <tr>\n",
       "      <th>31</th>\n",
       "      <td>Israel</td>\n",
       "      <td>49</td>\n",
       "    </tr>\n",
       "    <tr>\n",
       "      <th>32</th>\n",
       "      <td>Philippines</td>\n",
       "      <td>48</td>\n",
       "    </tr>\n",
       "    <tr>\n",
       "      <th>33</th>\n",
       "      <td>Morocco</td>\n",
       "      <td>47</td>\n",
       "    </tr>\n",
       "    <tr>\n",
       "      <th>34</th>\n",
       "      <td>Portugal</td>\n",
       "      <td>46</td>\n",
       "    </tr>\n",
       "    <tr>\n",
       "      <th>35</th>\n",
       "      <td>Kenya</td>\n",
       "      <td>45</td>\n",
       "    </tr>\n",
       "    <tr>\n",
       "      <th>36</th>\n",
       "      <td>South Africa</td>\n",
       "      <td>42</td>\n",
       "    </tr>\n",
       "    <tr>\n",
       "      <th>37</th>\n",
       "      <td>Peru</td>\n",
       "      <td>42</td>\n",
       "    </tr>\n",
       "    <tr>\n",
       "      <th>38</th>\n",
       "      <td>Saudi Arabia</td>\n",
       "      <td>41</td>\n",
       "    </tr>\n",
       "    <tr>\n",
       "      <th>39</th>\n",
       "      <td>Singapore</td>\n",
       "      <td>40</td>\n",
       "    </tr>\n",
       "    <tr>\n",
       "      <th>40</th>\n",
       "      <td>Belgium</td>\n",
       "      <td>37</td>\n",
       "    </tr>\n",
       "    <tr>\n",
       "      <th>41</th>\n",
       "      <td>Iran, Islamic Republic of...</td>\n",
       "      <td>34</td>\n",
       "    </tr>\n",
       "    <tr>\n",
       "      <th>42</th>\n",
       "      <td>Czech Republic</td>\n",
       "      <td>33</td>\n",
       "    </tr>\n",
       "    <tr>\n",
       "      <th>43</th>\n",
       "      <td>Ethiopia</td>\n",
       "      <td>33</td>\n",
       "    </tr>\n",
       "    <tr>\n",
       "      <th>44</th>\n",
       "      <td>Hong Kong (S.A.R.)</td>\n",
       "      <td>32</td>\n",
       "    </tr>\n",
       "    <tr>\n",
       "      <th>45</th>\n",
       "      <td>Malaysia</td>\n",
       "      <td>31</td>\n",
       "    </tr>\n",
       "    <tr>\n",
       "      <th>46</th>\n",
       "      <td>Ireland</td>\n",
       "      <td>31</td>\n",
       "    </tr>\n",
       "    <tr>\n",
       "      <th>47</th>\n",
       "      <td>Ukraine</td>\n",
       "      <td>28</td>\n",
       "    </tr>\n",
       "    <tr>\n",
       "      <th>48</th>\n",
       "      <td>Ghana</td>\n",
       "      <td>26</td>\n",
       "    </tr>\n",
       "    <tr>\n",
       "      <th>49</th>\n",
       "      <td>Sri Lanka</td>\n",
       "      <td>26</td>\n",
       "    </tr>\n",
       "    <tr>\n",
       "      <th>50</th>\n",
       "      <td>Romania</td>\n",
       "      <td>24</td>\n",
       "    </tr>\n",
       "    <tr>\n",
       "      <th>51</th>\n",
       "      <td>Tunisia</td>\n",
       "      <td>21</td>\n",
       "    </tr>\n",
       "    <tr>\n",
       "      <th>52</th>\n",
       "      <td>Cameroon</td>\n",
       "      <td>15</td>\n",
       "    </tr>\n",
       "    <tr>\n",
       "      <th>53</th>\n",
       "      <td>Zimbabwe</td>\n",
       "      <td>14</td>\n",
       "    </tr>\n",
       "    <tr>\n",
       "      <th>54</th>\n",
       "      <td>Nepal</td>\n",
       "      <td>13</td>\n",
       "    </tr>\n",
       "    <tr>\n",
       "      <th>55</th>\n",
       "      <td>Ecuador</td>\n",
       "      <td>12</td>\n",
       "    </tr>\n",
       "    <tr>\n",
       "      <th>56</th>\n",
       "      <td>I do not wish to disclose my location</td>\n",
       "      <td>12</td>\n",
       "    </tr>\n",
       "    <tr>\n",
       "      <th>57</th>\n",
       "      <td>Algeria</td>\n",
       "      <td>9</td>\n",
       "    </tr>\n",
       "  </tbody>\n",
       "</table>\n",
       "</div>"
      ],
      "text/plain": [
       "                                                index  country\n",
       "0                                               India     2678\n",
       "1                            United States of America     1586\n",
       "2                                               Other      579\n",
       "3                                               Japan      370\n",
       "4                                              Brazil      315\n",
       "5                                             Nigeria      168\n",
       "6                                              France      160\n",
       "7   United Kingdom of Great Britain and Northern I...      150\n",
       "8                                               Spain      150\n",
       "9                                              Mexico      149\n",
       "10                                        South Korea      145\n",
       "11                                           Pakistan      144\n",
       "12                                             Turkey      132\n",
       "13                                             Canada      126\n",
       "14                                              China      124\n",
       "15                                             Taiwan      121\n",
       "16                                          Indonesia      111\n",
       "17                                             Russia      111\n",
       "18                                              Egypt      104\n",
       "19                                              Italy      103\n",
       "20                                           Colombia       94\n",
       "21                                        Netherlands       84\n",
       "22                                          Argentina       78\n",
       "23                                             Poland       78\n",
       "24                                          Australia       66\n",
       "25                                           Viet Nam       60\n",
       "26                                            Germany       58\n",
       "27                               United Arab Emirates       58\n",
       "28                                           Thailand       56\n",
       "29                                              Chile       56\n",
       "30                                         Bangladesh       49\n",
       "31                                             Israel       49\n",
       "32                                        Philippines       48\n",
       "33                                            Morocco       47\n",
       "34                                           Portugal       46\n",
       "35                                              Kenya       45\n",
       "36                                       South Africa       42\n",
       "37                                               Peru       42\n",
       "38                                       Saudi Arabia       41\n",
       "39                                          Singapore       40\n",
       "40                                            Belgium       37\n",
       "41                       Iran, Islamic Republic of...       34\n",
       "42                                     Czech Republic       33\n",
       "43                                           Ethiopia       33\n",
       "44                                 Hong Kong (S.A.R.)       32\n",
       "45                                           Malaysia       31\n",
       "46                                            Ireland       31\n",
       "47                                            Ukraine       28\n",
       "48                                              Ghana       26\n",
       "49                                          Sri Lanka       26\n",
       "50                                            Romania       24\n",
       "51                                            Tunisia       21\n",
       "52                                           Cameroon       15\n",
       "53                                           Zimbabwe       14\n",
       "54                                              Nepal       13\n",
       "55                                            Ecuador       12\n",
       "56              I do not wish to disclose my location       12\n",
       "57                                            Algeria        9"
      ]
     },
     "execution_count": 13,
     "metadata": {},
     "output_type": "execute_result"
    }
   ],
   "source": [
    "#Plotting the proportions of country \n",
    "num_country = df['country'].value_counts()\n",
    "num_country = num_country.reset_index()\n",
    "num_country"
   ]
  },
  {
   "cell_type": "markdown",
   "metadata": {},
   "source": [
    "Encode Machine learning stages"
   ]
  },
  {
   "cell_type": "code",
   "execution_count": 14,
   "metadata": {},
   "outputs": [
    {
     "data": {
      "text/plain": [
       "array(['We recently started using ML methods (i.e., models in production for less than 2 years)',\n",
       "       'We have well established ML methods (i.e., models in production for more than 2 years)',\n",
       "       'We are exploring ML methods (and may one day put a model into production)',\n",
       "       'I do not know',\n",
       "       'We use ML methods for generating insights (but do not put working models into production)',\n",
       "       'No (we do not use ML methods)', nan], dtype=object)"
      ]
     },
     "execution_count": 14,
     "metadata": {},
     "output_type": "execute_result"
    }
   ],
   "source": [
    "df['company_stage'].unique()"
   ]
  },
  {
   "cell_type": "code",
   "execution_count": 15,
   "metadata": {},
   "outputs": [],
   "source": [
    "company_stage_dict = {\n",
    "    'I do not know': -1,\n",
    "    'No (we do not use ML methods)': 0,\n",
    "    'We are exploring ML methods (and may one day put a model into production)': 1,\n",
    "    'We use ML methods for generating insights (but do not put working models into production)': 2,\n",
    "    'We recently started using ML methods (i.e., models in production for less than 2 years)': 3,\n",
    "    'We have well established ML methods (i.e., models in production for more than 2 years)': 4\n",
    "}\n",
    "\n"
   ]
  },
  {
   "cell_type": "code",
   "execution_count": 16,
   "metadata": {},
   "outputs": [],
   "source": [
    "df['stage_index'] = df['company_stage'].map(company_stage_dict)"
   ]
  },
  {
   "cell_type": "code",
   "execution_count": 17,
   "metadata": {},
   "outputs": [],
   "source": [
    "df.to_csv('./data/cleaned_kaggle2022.csv', index=False)"
   ]
  },
  {
   "cell_type": "markdown",
   "metadata": {},
   "source": [
    "## 1. Gender & Title distribution in different industries"
   ]
  },
  {
   "cell_type": "code",
   "execution_count": 18,
   "metadata": {},
   "outputs": [
    {
     "data": {
      "text/html": [
       "<div>\n",
       "<style scoped>\n",
       "    .dataframe tbody tr th:only-of-type {\n",
       "        vertical-align: middle;\n",
       "    }\n",
       "\n",
       "    .dataframe tbody tr th {\n",
       "        vertical-align: top;\n",
       "    }\n",
       "\n",
       "    .dataframe thead th {\n",
       "        text-align: right;\n",
       "    }\n",
       "</style>\n",
       "<table border=\"1\" class=\"dataframe\">\n",
       "  <thead>\n",
       "    <tr style=\"text-align: right;\">\n",
       "      <th></th>\n",
       "      <th>index</th>\n",
       "      <th>title</th>\n",
       "    </tr>\n",
       "  </thead>\n",
       "  <tbody>\n",
       "    <tr>\n",
       "      <th>0</th>\n",
       "      <td>Data Scientist</td>\n",
       "      <td>1913</td>\n",
       "    </tr>\n",
       "    <tr>\n",
       "      <th>1</th>\n",
       "      <td>Data Analyst</td>\n",
       "      <td>1513</td>\n",
       "    </tr>\n",
       "    <tr>\n",
       "      <th>2</th>\n",
       "      <td>Software Engineer</td>\n",
       "      <td>971</td>\n",
       "    </tr>\n",
       "    <tr>\n",
       "      <th>3</th>\n",
       "      <td>Manager</td>\n",
       "      <td>826</td>\n",
       "    </tr>\n",
       "    <tr>\n",
       "      <th>4</th>\n",
       "      <td>Teacher/professor</td>\n",
       "      <td>820</td>\n",
       "    </tr>\n",
       "    <tr>\n",
       "      <th>5</th>\n",
       "      <td>Other</td>\n",
       "      <td>748</td>\n",
       "    </tr>\n",
       "    <tr>\n",
       "      <th>6</th>\n",
       "      <td>Research Scientist</td>\n",
       "      <td>590</td>\n",
       "    </tr>\n",
       "    <tr>\n",
       "      <th>7</th>\n",
       "      <td>ML/MLops Engineer</td>\n",
       "      <td>562</td>\n",
       "    </tr>\n",
       "    <tr>\n",
       "      <th>8</th>\n",
       "      <td>Engineer (non-software)</td>\n",
       "      <td>463</td>\n",
       "    </tr>\n",
       "    <tr>\n",
       "      <th>9</th>\n",
       "      <td>Data Engineer</td>\n",
       "      <td>341</td>\n",
       "    </tr>\n",
       "    <tr>\n",
       "      <th>10</th>\n",
       "      <td>Statistician</td>\n",
       "      <td>123</td>\n",
       "    </tr>\n",
       "    <tr>\n",
       "      <th>11</th>\n",
       "      <td>Data Architect</td>\n",
       "      <td>95</td>\n",
       "    </tr>\n",
       "    <tr>\n",
       "      <th>12</th>\n",
       "      <td>Data Administrator</td>\n",
       "      <td>70</td>\n",
       "    </tr>\n",
       "    <tr>\n",
       "      <th>13</th>\n",
       "      <td>Developer Advocate</td>\n",
       "      <td>59</td>\n",
       "    </tr>\n",
       "  </tbody>\n",
       "</table>\n",
       "</div>"
      ],
      "text/plain": [
       "                      index  title\n",
       "0            Data Scientist   1913\n",
       "1              Data Analyst   1513\n",
       "2         Software Engineer    971\n",
       "3                   Manager    826\n",
       "4         Teacher/professor    820\n",
       "5                     Other    748\n",
       "6        Research Scientist    590\n",
       "7         ML/MLops Engineer    562\n",
       "8   Engineer (non-software)    463\n",
       "9             Data Engineer    341\n",
       "10             Statistician    123\n",
       "11           Data Architect     95\n",
       "12       Data Administrator     70\n",
       "13       Developer Advocate     59"
      ]
     },
     "execution_count": 18,
     "metadata": {},
     "output_type": "execute_result"
    }
   ],
   "source": [
    "position = df['title'].value_counts()\n",
    "position = position.reset_index()\n",
    "position"
   ]
  },
  {
   "cell_type": "code",
   "execution_count": 19,
   "metadata": {},
   "outputs": [
    {
     "data": {
      "text/html": [
       "<div>\n",
       "<style scoped>\n",
       "    .dataframe tbody tr th:only-of-type {\n",
       "        vertical-align: middle;\n",
       "    }\n",
       "\n",
       "    .dataframe tbody tr th {\n",
       "        vertical-align: top;\n",
       "    }\n",
       "\n",
       "    .dataframe thead th {\n",
       "        text-align: right;\n",
       "    }\n",
       "</style>\n",
       "<table border=\"1\" class=\"dataframe\">\n",
       "  <thead>\n",
       "    <tr style=\"text-align: right;\">\n",
       "      <th></th>\n",
       "      <th>index</th>\n",
       "      <th>title</th>\n",
       "      <th>Group</th>\n",
       "    </tr>\n",
       "  </thead>\n",
       "  <tbody>\n",
       "    <tr>\n",
       "      <th>0</th>\n",
       "      <td>Data Scientist</td>\n",
       "      <td>1913</td>\n",
       "      <td>Data Scientist</td>\n",
       "    </tr>\n",
       "    <tr>\n",
       "      <th>1</th>\n",
       "      <td>Data Analyst</td>\n",
       "      <td>1513</td>\n",
       "      <td>Data Analyst</td>\n",
       "    </tr>\n",
       "    <tr>\n",
       "      <th>2</th>\n",
       "      <td>Software Engineer</td>\n",
       "      <td>971</td>\n",
       "      <td>Software Engineer</td>\n",
       "    </tr>\n",
       "    <tr>\n",
       "      <th>3</th>\n",
       "      <td>Manager</td>\n",
       "      <td>826</td>\n",
       "      <td>Manager</td>\n",
       "    </tr>\n",
       "    <tr>\n",
       "      <th>4</th>\n",
       "      <td>Teacher/professor</td>\n",
       "      <td>820</td>\n",
       "      <td>Teacher/professor</td>\n",
       "    </tr>\n",
       "    <tr>\n",
       "      <th>5</th>\n",
       "      <td>Other</td>\n",
       "      <td>748</td>\n",
       "      <td>Other</td>\n",
       "    </tr>\n",
       "    <tr>\n",
       "      <th>6</th>\n",
       "      <td>Research Scientist</td>\n",
       "      <td>590</td>\n",
       "      <td>Research Scientist</td>\n",
       "    </tr>\n",
       "    <tr>\n",
       "      <th>7</th>\n",
       "      <td>ML/MLops Engineer</td>\n",
       "      <td>562</td>\n",
       "      <td>ML/MLops Engineer</td>\n",
       "    </tr>\n",
       "    <tr>\n",
       "      <th>8</th>\n",
       "      <td>Engineer (non-software)</td>\n",
       "      <td>463</td>\n",
       "      <td>Engineer (non-software)</td>\n",
       "    </tr>\n",
       "    <tr>\n",
       "      <th>9</th>\n",
       "      <td>Data Engineer</td>\n",
       "      <td>341</td>\n",
       "      <td>Data Engineer</td>\n",
       "    </tr>\n",
       "    <tr>\n",
       "      <th>10</th>\n",
       "      <td>Statistician</td>\n",
       "      <td>123</td>\n",
       "      <td>Statistician</td>\n",
       "    </tr>\n",
       "    <tr>\n",
       "      <th>11</th>\n",
       "      <td>Data Architect</td>\n",
       "      <td>95</td>\n",
       "      <td>Other</td>\n",
       "    </tr>\n",
       "    <tr>\n",
       "      <th>12</th>\n",
       "      <td>Data Administrator</td>\n",
       "      <td>70</td>\n",
       "      <td>Other</td>\n",
       "    </tr>\n",
       "    <tr>\n",
       "      <th>13</th>\n",
       "      <td>Developer Advocate</td>\n",
       "      <td>59</td>\n",
       "      <td>Other</td>\n",
       "    </tr>\n",
       "  </tbody>\n",
       "</table>\n",
       "</div>"
      ],
      "text/plain": [
       "                      index  title                    Group\n",
       "0            Data Scientist   1913           Data Scientist\n",
       "1              Data Analyst   1513             Data Analyst\n",
       "2         Software Engineer    971        Software Engineer\n",
       "3                   Manager    826                  Manager\n",
       "4         Teacher/professor    820        Teacher/professor\n",
       "5                     Other    748                    Other\n",
       "6        Research Scientist    590       Research Scientist\n",
       "7         ML/MLops Engineer    562        ML/MLops Engineer\n",
       "8   Engineer (non-software)    463  Engineer (non-software)\n",
       "9             Data Engineer    341            Data Engineer\n",
       "10             Statistician    123             Statistician\n",
       "11           Data Architect     95                    Other\n",
       "12       Data Administrator     70                    Other\n",
       "13       Developer Advocate     59                    Other"
      ]
     },
     "execution_count": 19,
     "metadata": {},
     "output_type": "execute_result"
    }
   ],
   "source": [
    "position['Group'] = position['index'].where(position['title'] > 100, 'Other')\n",
    "position"
   ]
  },
  {
   "cell_type": "code",
   "execution_count": 20,
   "metadata": {},
   "outputs": [
    {
     "data": {
      "text/html": [
       "<div>\n",
       "<style scoped>\n",
       "    .dataframe tbody tr th:only-of-type {\n",
       "        vertical-align: middle;\n",
       "    }\n",
       "\n",
       "    .dataframe tbody tr th {\n",
       "        vertical-align: top;\n",
       "    }\n",
       "\n",
       "    .dataframe thead th {\n",
       "        text-align: right;\n",
       "    }\n",
       "</style>\n",
       "<table border=\"1\" class=\"dataframe\">\n",
       "  <thead>\n",
       "    <tr style=\"text-align: right;\">\n",
       "      <th></th>\n",
       "      <th>Group</th>\n",
       "      <th>title</th>\n",
       "    </tr>\n",
       "  </thead>\n",
       "  <tbody>\n",
       "    <tr>\n",
       "      <th>2</th>\n",
       "      <td>Data Scientist</td>\n",
       "      <td>1913</td>\n",
       "    </tr>\n",
       "    <tr>\n",
       "      <th>0</th>\n",
       "      <td>Data Analyst</td>\n",
       "      <td>1513</td>\n",
       "    </tr>\n",
       "    <tr>\n",
       "      <th>6</th>\n",
       "      <td>Other</td>\n",
       "      <td>972</td>\n",
       "    </tr>\n",
       "    <tr>\n",
       "      <th>8</th>\n",
       "      <td>Software Engineer</td>\n",
       "      <td>971</td>\n",
       "    </tr>\n",
       "    <tr>\n",
       "      <th>5</th>\n",
       "      <td>Manager</td>\n",
       "      <td>826</td>\n",
       "    </tr>\n",
       "    <tr>\n",
       "      <th>10</th>\n",
       "      <td>Teacher/professor</td>\n",
       "      <td>820</td>\n",
       "    </tr>\n",
       "    <tr>\n",
       "      <th>7</th>\n",
       "      <td>Research Scientist</td>\n",
       "      <td>590</td>\n",
       "    </tr>\n",
       "    <tr>\n",
       "      <th>4</th>\n",
       "      <td>ML/MLops Engineer</td>\n",
       "      <td>562</td>\n",
       "    </tr>\n",
       "    <tr>\n",
       "      <th>3</th>\n",
       "      <td>Engineer (non-software)</td>\n",
       "      <td>463</td>\n",
       "    </tr>\n",
       "    <tr>\n",
       "      <th>1</th>\n",
       "      <td>Data Engineer</td>\n",
       "      <td>341</td>\n",
       "    </tr>\n",
       "    <tr>\n",
       "      <th>9</th>\n",
       "      <td>Statistician</td>\n",
       "      <td>123</td>\n",
       "    </tr>\n",
       "  </tbody>\n",
       "</table>\n",
       "</div>"
      ],
      "text/plain": [
       "                      Group  title\n",
       "2            Data Scientist   1913\n",
       "0              Data Analyst   1513\n",
       "6                     Other    972\n",
       "8         Software Engineer    971\n",
       "5                   Manager    826\n",
       "10        Teacher/professor    820\n",
       "7        Research Scientist    590\n",
       "4         ML/MLops Engineer    562\n",
       "3   Engineer (non-software)    463\n",
       "1             Data Engineer    341\n",
       "9              Statistician    123"
      ]
     },
     "execution_count": 20,
     "metadata": {},
     "output_type": "execute_result"
    }
   ],
   "source": [
    "group_position = position.groupby('Group')['title'].sum().reset_index().sort_values(by='title', ascending=False)\n",
    "group_position"
   ]
  },
  {
   "cell_type": "code",
   "execution_count": 21,
   "metadata": {},
   "outputs": [],
   "source": [
    "def plot_positions(group_position, ax):\n",
    "    labels = group_position['Group']\n",
    "    sizes = group_position['title']\n",
    "    colors = ['#A6ABAD','#00587A', '#0073A1', '#00A1E0','#00BCE3','#87CEEB', '#89BCC4', '#9BD3DD', '#A4E0EB']\n",
    "    \n",
    "    patches, labels_, percentages = ax.pie(\n",
    "        sizes, colors=colors,\n",
    "        wedgeprops={'linewidth': 3.0, 'edgecolor': 'white'},\n",
    "        textprops={'color': 'white', 'fontweight': 'bold','fontname': \"Sans Serif\"},\n",
    "        startangle=90, frame=True,\n",
    "        autopct=\"%.2f%%\",\n",
    "        pctdistance=0.85,\n",
    "    )\n",
    "\n",
    "    ax.axis('off')\n",
    "\n",
    "    ax.add_artist(plt.Circle((0, 0), 0.6, color='white', linewidth=0))\n",
    "\n",
    "    # Adding Title of chart\n",
    "    ax.set_title('Popular positions from surveyors', fontweight = 'bold', size = 15, fontfamily='serif', ha=\"center\", color=\"#4d4d4d\")\n",
    "\n",
    "    ax.legend(labels, loc='upper right', bbox_to_anchor=(1.35, 0.75))\n"
   ]
  },
  {
   "cell_type": "code",
   "execution_count": 22,
   "metadata": {},
   "outputs": [],
   "source": [
    "# fig, axs = plt.subplots(figsize=(15,9), dpi=400)\n",
    "# plot_positions(group_position, axs)\n",
    "# plt.show()"
   ]
  },
  {
   "cell_type": "code",
   "execution_count": 23,
   "metadata": {},
   "outputs": [],
   "source": [
    "df['count'] = 1"
   ]
  },
  {
   "cell_type": "code",
   "execution_count": 24,
   "metadata": {},
   "outputs": [
    {
     "data": {
      "text/plain": [
       "['Data Administrator',\n",
       " 'Data Analyst',\n",
       " 'Data Architect',\n",
       " 'Data Engineer',\n",
       " 'Data Scientist',\n",
       " 'Developer Advocate',\n",
       " 'Engineer (non-software)',\n",
       " 'ML/MLops Engineer',\n",
       " 'Manager',\n",
       " 'Other',\n",
       " 'Research Scientist',\n",
       " 'Software Engineer',\n",
       " 'Statistician',\n",
       " 'Teacher/professor']"
      ]
     },
     "execution_count": 24,
     "metadata": {},
     "output_type": "execute_result"
    }
   ],
   "source": [
    "position_order = sorted(df['title'].unique().tolist())\n",
    "position_order"
   ]
  },
  {
   "cell_type": "code",
   "execution_count": 25,
   "metadata": {},
   "outputs": [
    {
     "data": {
      "text/plain": [
       "['Academics/Education',\n",
       " 'Accounting/Finance',\n",
       " 'Broadcasting/Communications',\n",
       " 'Computers/Technology',\n",
       " 'Energy/Mining',\n",
       " 'Government/Public Service',\n",
       " 'Insurance/Risk Assessment',\n",
       " 'Manufacturing/Fabrication',\n",
       " 'Marketing/CRM',\n",
       " 'Medical/Pharmaceutical',\n",
       " 'Non-profit/Service',\n",
       " 'Online Service/Internet-based Services',\n",
       " 'Other',\n",
       " 'Retail/Sales',\n",
       " 'Shipping/Transportation']"
      ]
     },
     "execution_count": 25,
     "metadata": {},
     "output_type": "execute_result"
    }
   ],
   "source": [
    "industry_order = sorted(df['industry'].unique().tolist())\n",
    "industry_order"
   ]
  },
  {
   "cell_type": "code",
   "execution_count": 26,
   "metadata": {},
   "outputs": [],
   "source": [
    "data_q5q15 = pd.pivot_table(df, values='count', index=['title'], columns=['industry'], aggfunc=np.sum).fillna(0).astype(int).loc[position_order, industry_order].stack()\n",
    "data_q5q15_man = pd.pivot_table(df[df['gender']=='Man'], values='count', index=['title'], columns=['industry'], aggfunc=np.sum).fillna(0).astype(int).loc[position_order, industry_order].stack()\n",
    "data_q5q15_woman = pd.pivot_table(df[df['gender']=='Woman'], values='count', index=['title'], columns=['industry'], aggfunc=np.sum).fillna(0).astype(int).loc[position_order, industry_order].stack()"
   ]
  },
  {
   "cell_type": "code",
   "execution_count": 27,
   "metadata": {},
   "outputs": [],
   "source": [
    "def drawPieMarker(xs, ys, ratios, sizes, colors, ax):\n",
    "    markers = []\n",
    "    previous = 0\n",
    "    # calculate the points of the pie pieces\n",
    "    for color, ratio in zip(colors, ratios):\n",
    "        this = 2 * np.pi * ratio + previous\n",
    "        x  = [0] + np.cos(np.linspace(previous, this, 30)).tolist() + [0]\n",
    "        y  = [0] + np.sin(np.linspace(previous, this, 30)).tolist() + [0]\n",
    "        xy = np.column_stack([x, y])\n",
    "        previous = this\n",
    "        markers.append({'marker':xy, 's':np.abs(xy).max()**2*np.array(sizes), 'facecolor':color})\n",
    "\n",
    "    # scatter each of the pie pieces to create pies\n",
    "    for marker in markers:\n",
    "        ax.scatter(xs, ys, **marker, alpha=0.7)"
   ]
  },
  {
   "cell_type": "code",
   "execution_count": 28,
   "metadata": {},
   "outputs": [],
   "source": [
    "# Define function for marker\n",
    "# def count_to_size(val):\n",
    "#     max_sz = 20\n",
    "#     min_sz = 3\n",
    "#     return np.sqrt((val - 1) / (80 - 1)) * (max_sz - min_sz) + min_sz"
   ]
  },
  {
   "cell_type": "code",
   "execution_count": 29,
   "metadata": {},
   "outputs": [],
   "source": [
    "with warnings.catch_warnings():\n",
    "    warnings.filterwarnings('ignore')\n",
    "    fig = plt.figure(figsize=(22, 25), dpi=200)\n",
    "\n",
    "    gs = fig.add_gridspec(5, 5)\n",
    "\n",
    "    ax_plot = fig.add_subplot(gs[1:4, 0:4]) \n",
    "    for q5_idx in position_order[::-1]:\n",
    "        for q15_idx in industry_order:\n",
    "            man = data_q5q15_man[q5_idx][q15_idx]\n",
    "            woman = data_q5q15_woman[q5_idx][q15_idx]\n",
    "            tot = data_q5q15[q5_idx][q15_idx]\n",
    "            drawPieMarker([q15_idx],[q5_idx], [man/(man+woman), woman/(man+woman)], [tot*7], ['#1170aa', '#B21807'], ax=ax_plot)\n",
    "\n",
    "    ax_plot.grid(linewidth=0.2, zorder=0)        \n",
    "\n",
    "    ax_plot.tick_params(axis='x', labelrotation=90)\n",
    "\n",
    "    # region Industry\n",
    "    ax_int = fig.add_subplot(gs[0, :4], sharex=ax_plot) \n",
    "    data_q15_woman = df[df['gender']=='Woman']['industry'].value_counts()[industry_order]\n",
    "    ax_int.bar(data_q15_woman.index, data_q15_woman, width=0.45, alpha=0.7, color='#B21807', label='Female')\n",
    "\n",
    "    data_q15_man = df[df['gender']=='Man']['industry'].value_counts()[industry_order]\n",
    "    ax_int.bar(data_q15_man.index, data_q15_man, bottom=data_q15_woman , width=0.45, alpha=0.7, color='#1170aa', label='Male')\n",
    "\n",
    "    plt.setp(ax_int.get_xticklabels(), visible=False)\n",
    "    # endregion\n",
    "\n",
    "\n",
    "    # region Title\n",
    "    ax_tit = fig.add_subplot(gs[1:4, 4], sharey=ax_plot) \n",
    "\n",
    "    data_q5_woman = df[df['gender']=='Woman']['title'].value_counts()[position_order]\n",
    "    ax_tit.barh(data_q5_woman.index[::-1], data_q5_woman[::-1], height=0.55, alpha=0.7, color='#B21807')\n",
    "\n",
    "    data_q5_man = df[df['gender']=='Man']['title'].value_counts()[position_order]\n",
    "    ax_tit.barh(data_q5_man.index[::-1], data_q5_man[::-1], left= data_q5_woman[::-1],height=0.55, alpha=0.7, color='#1170aa')\n",
    "\n",
    "    plt.setp(ax_tit.get_yticklabels(), visible=False)\n",
    "    # endregion\n",
    "\n",
    "    # Spines\n",
    "    for s in ['top', 'left', 'right', 'bottom']:\n",
    "        ax_plot.spines[s].set_visible(False)\n",
    "        ax_int.spines[s].set_visible(False)\n",
    "        ax_tit.spines[s].set_visible(False)\n",
    "        \n",
    "\n",
    "    fig.text(0.6, 0.9, 'Gender & Title distribution by Industry', fontweight='bold', fontfamily='arial', fontsize=35, ha='right', color = '#C41E3A') \n",
    "    fig.text(0.6, 0.88, 'Source: Data Professionals - Kaggle Survey 2022', fontweight='light', style= 'italic', fontfamily='arial', fontsize=15, ha='right')\n",
    "\n",
    "    # Legend\n",
    "    legend_gender = ax_int.legend(bbox_to_anchor=(1.2, 1.1), fontsize=16, frameon=False, title='Gender', title_fontsize=20)\n",
    "    legend_count = ax_int.annotate(\n",
    "        'Count of professionals',\n",
    "        xy=(0.1, 0.1),\n",
    "        textcoords=OffsetFrom(legend_gender, (0.5, -0.5)),\n",
    "        xytext=(0, 0),\n",
    "        fontsize=20,\n",
    "        ha='center',\n",
    "    )\n",
    "\n",
    "    corner_ax = fig.add_subplot(gs[0, 4], zorder=-1)\n",
    "    corner_ax.set_axis_off()\n",
    "    for s in ['top', 'left', 'right', 'bottom']:\n",
    "        corner_ax.spines[s].set_visible(False)\n",
    "\n",
    "    ax_count = corner_ax.inset_axes([0, 0, 1, 0.5])\n",
    "    ax_count.set_axis_off()\n",
    "    sizes = [50, 100, 200]\n",
    "    x_coords = [0] * len(sizes)\n",
    "    y_coords = np.arange(len(sizes))\n",
    "    ax_count.scatter(x_coords, y_coords, marker='o', s=[size*7 for size in sizes], c='#a3acb9', alpha=0.7)\n",
    "    ax_count.set_xlim(-0.02, 0.06)\n",
    "    ax_count.set_ylim(-0.5, 2.5)\n",
    "\n",
    "    for size, x, y in zip(sizes, x_coords, y_coords):\n",
    "        ax_count.annotate(str(size), (x + 0.015, y-0.15), fontsize=16)\n",
    "\n",
    "    plt.savefig('./charts/gender title by industry.png')\n",
    "    plt.close('all')"
   ]
  },
  {
   "cell_type": "markdown",
   "metadata": {},
   "source": [
    "## 2. ML in research by data professionals"
   ]
  },
  {
   "cell_type": "code",
   "execution_count": 30,
   "metadata": {},
   "outputs": [
    {
     "data": {
      "text/plain": [
       "array(['Some college/university study without earning a bachelor’s degree',\n",
       "       'Bachelor’s degree', 'Doctoral degree', 'Master’s degree',\n",
       "       'No formal education past high school', 'Professional doctorate'],\n",
       "      dtype=object)"
      ]
     },
     "execution_count": 30,
     "metadata": {},
     "output_type": "execute_result"
    }
   ],
   "source": [
    "df = df.query('education_level.notna() and education_level != \"I prefer not to answer\"')\n",
    "df['education_level'].unique()"
   ]
  },
  {
   "cell_type": "code",
   "execution_count": 31,
   "metadata": {},
   "outputs": [],
   "source": [
    "df['edu_group'] = df['education_level'].where(\n",
    "    ~df['education_level'].isin([\"No formal education past high school\", \"Some college/university study without earning a bachelor’s degree\"]), \"Below Bachelor's Degree\"\n",
    "    )"
   ]
  },
  {
   "cell_type": "code",
   "execution_count": 32,
   "metadata": {},
   "outputs": [],
   "source": [
    "df['edu_group'] = df['edu_group'].where(\n",
    "    ~df['edu_group'].isin([\"Professional doctorate\", \"Doctoral degree\"]), \"Above Master's Degree\"\n",
    "    )"
   ]
  },
  {
   "cell_type": "code",
   "execution_count": 33,
   "metadata": {},
   "outputs": [
    {
     "data": {
      "text/plain": [
       "array([\"Below Bachelor's Degree\", 'Bachelor’s degree',\n",
       "       \"Above Master's Degree\", 'Master’s degree'], dtype=object)"
      ]
     },
     "execution_count": 33,
     "metadata": {},
     "output_type": "execute_result"
    }
   ],
   "source": [
    "df['edu_group'].unique()"
   ]
  },
  {
   "cell_type": "code",
   "execution_count": 34,
   "metadata": {},
   "outputs": [
    {
     "data": {
      "text/html": [
       "<div>\n",
       "<style scoped>\n",
       "    .dataframe tbody tr th:only-of-type {\n",
       "        vertical-align: middle;\n",
       "    }\n",
       "\n",
       "    .dataframe tbody tr th {\n",
       "        vertical-align: top;\n",
       "    }\n",
       "\n",
       "    .dataframe thead th {\n",
       "        text-align: right;\n",
       "    }\n",
       "</style>\n",
       "<table border=\"1\" class=\"dataframe\">\n",
       "  <thead>\n",
       "    <tr style=\"text-align: right;\">\n",
       "      <th></th>\n",
       "      <th>age</th>\n",
       "      <th>gender</th>\n",
       "      <th>country</th>\n",
       "      <th>education_level</th>\n",
       "      <th>published</th>\n",
       "      <th>ml_used_theoretical</th>\n",
       "      <th>ml_used_applied</th>\n",
       "      <th>ml_used_no</th>\n",
       "      <th>code_exp</th>\n",
       "      <th>program_lang_Python</th>\n",
       "      <th>...</th>\n",
       "      <th>cloud_platform_SAPCloud</th>\n",
       "      <th>cloud_platform_VMwareCloud</th>\n",
       "      <th>cloud_platform_AlibabaCloud</th>\n",
       "      <th>cloud_platform_TencentCloud</th>\n",
       "      <th>cloud_platform_HuaweiCloud</th>\n",
       "      <th>cloud_platform_None</th>\n",
       "      <th>cloud_platform_Other</th>\n",
       "      <th>stage_index</th>\n",
       "      <th>count</th>\n",
       "      <th>edu_group</th>\n",
       "    </tr>\n",
       "    <tr>\n",
       "      <th>title</th>\n",
       "      <th></th>\n",
       "      <th></th>\n",
       "      <th></th>\n",
       "      <th></th>\n",
       "      <th></th>\n",
       "      <th></th>\n",
       "      <th></th>\n",
       "      <th></th>\n",
       "      <th></th>\n",
       "      <th></th>\n",
       "      <th></th>\n",
       "      <th></th>\n",
       "      <th></th>\n",
       "      <th></th>\n",
       "      <th></th>\n",
       "      <th></th>\n",
       "      <th></th>\n",
       "      <th></th>\n",
       "      <th></th>\n",
       "      <th></th>\n",
       "      <th></th>\n",
       "    </tr>\n",
       "  </thead>\n",
       "  <tbody>\n",
       "    <tr>\n",
       "      <th>Data Administrator</th>\n",
       "      <td>3</td>\n",
       "      <td>3</td>\n",
       "      <td>3</td>\n",
       "      <td>3</td>\n",
       "      <td>3</td>\n",
       "      <td>3</td>\n",
       "      <td>1</td>\n",
       "      <td>0</td>\n",
       "      <td>3</td>\n",
       "      <td>2</td>\n",
       "      <td>...</td>\n",
       "      <td>0</td>\n",
       "      <td>0</td>\n",
       "      <td>0</td>\n",
       "      <td>0</td>\n",
       "      <td>0</td>\n",
       "      <td>0</td>\n",
       "      <td>0</td>\n",
       "      <td>3</td>\n",
       "      <td>3</td>\n",
       "      <td>3</td>\n",
       "    </tr>\n",
       "    <tr>\n",
       "      <th>Data Analyst</th>\n",
       "      <td>45</td>\n",
       "      <td>45</td>\n",
       "      <td>45</td>\n",
       "      <td>45</td>\n",
       "      <td>45</td>\n",
       "      <td>45</td>\n",
       "      <td>18</td>\n",
       "      <td>0</td>\n",
       "      <td>45</td>\n",
       "      <td>39</td>\n",
       "      <td>...</td>\n",
       "      <td>2</td>\n",
       "      <td>4</td>\n",
       "      <td>2</td>\n",
       "      <td>2</td>\n",
       "      <td>1</td>\n",
       "      <td>8</td>\n",
       "      <td>1</td>\n",
       "      <td>43</td>\n",
       "      <td>45</td>\n",
       "      <td>45</td>\n",
       "    </tr>\n",
       "    <tr>\n",
       "      <th>Data Architect</th>\n",
       "      <td>5</td>\n",
       "      <td>5</td>\n",
       "      <td>5</td>\n",
       "      <td>5</td>\n",
       "      <td>5</td>\n",
       "      <td>5</td>\n",
       "      <td>3</td>\n",
       "      <td>0</td>\n",
       "      <td>5</td>\n",
       "      <td>5</td>\n",
       "      <td>...</td>\n",
       "      <td>0</td>\n",
       "      <td>0</td>\n",
       "      <td>0</td>\n",
       "      <td>0</td>\n",
       "      <td>0</td>\n",
       "      <td>1</td>\n",
       "      <td>0</td>\n",
       "      <td>5</td>\n",
       "      <td>5</td>\n",
       "      <td>5</td>\n",
       "    </tr>\n",
       "    <tr>\n",
       "      <th>Data Engineer</th>\n",
       "      <td>14</td>\n",
       "      <td>14</td>\n",
       "      <td>14</td>\n",
       "      <td>14</td>\n",
       "      <td>14</td>\n",
       "      <td>14</td>\n",
       "      <td>5</td>\n",
       "      <td>0</td>\n",
       "      <td>14</td>\n",
       "      <td>14</td>\n",
       "      <td>...</td>\n",
       "      <td>1</td>\n",
       "      <td>2</td>\n",
       "      <td>2</td>\n",
       "      <td>1</td>\n",
       "      <td>2</td>\n",
       "      <td>1</td>\n",
       "      <td>0</td>\n",
       "      <td>14</td>\n",
       "      <td>14</td>\n",
       "      <td>14</td>\n",
       "    </tr>\n",
       "    <tr>\n",
       "      <th>Data Scientist</th>\n",
       "      <td>185</td>\n",
       "      <td>185</td>\n",
       "      <td>185</td>\n",
       "      <td>185</td>\n",
       "      <td>185</td>\n",
       "      <td>185</td>\n",
       "      <td>95</td>\n",
       "      <td>0</td>\n",
       "      <td>185</td>\n",
       "      <td>178</td>\n",
       "      <td>...</td>\n",
       "      <td>4</td>\n",
       "      <td>3</td>\n",
       "      <td>2</td>\n",
       "      <td>2</td>\n",
       "      <td>0</td>\n",
       "      <td>13</td>\n",
       "      <td>4</td>\n",
       "      <td>180</td>\n",
       "      <td>185</td>\n",
       "      <td>185</td>\n",
       "    </tr>\n",
       "    <tr>\n",
       "      <th>Developer Advocate</th>\n",
       "      <td>7</td>\n",
       "      <td>7</td>\n",
       "      <td>7</td>\n",
       "      <td>7</td>\n",
       "      <td>7</td>\n",
       "      <td>7</td>\n",
       "      <td>0</td>\n",
       "      <td>0</td>\n",
       "      <td>7</td>\n",
       "      <td>3</td>\n",
       "      <td>...</td>\n",
       "      <td>1</td>\n",
       "      <td>1</td>\n",
       "      <td>1</td>\n",
       "      <td>1</td>\n",
       "      <td>1</td>\n",
       "      <td>1</td>\n",
       "      <td>0</td>\n",
       "      <td>7</td>\n",
       "      <td>7</td>\n",
       "      <td>7</td>\n",
       "    </tr>\n",
       "    <tr>\n",
       "      <th>Engineer (non-software)</th>\n",
       "      <td>7</td>\n",
       "      <td>7</td>\n",
       "      <td>7</td>\n",
       "      <td>7</td>\n",
       "      <td>7</td>\n",
       "      <td>7</td>\n",
       "      <td>3</td>\n",
       "      <td>0</td>\n",
       "      <td>7</td>\n",
       "      <td>6</td>\n",
       "      <td>...</td>\n",
       "      <td>0</td>\n",
       "      <td>0</td>\n",
       "      <td>0</td>\n",
       "      <td>0</td>\n",
       "      <td>0</td>\n",
       "      <td>0</td>\n",
       "      <td>0</td>\n",
       "      <td>7</td>\n",
       "      <td>7</td>\n",
       "      <td>7</td>\n",
       "    </tr>\n",
       "    <tr>\n",
       "      <th>ML/MLops Engineer</th>\n",
       "      <td>70</td>\n",
       "      <td>70</td>\n",
       "      <td>70</td>\n",
       "      <td>70</td>\n",
       "      <td>70</td>\n",
       "      <td>70</td>\n",
       "      <td>34</td>\n",
       "      <td>0</td>\n",
       "      <td>70</td>\n",
       "      <td>68</td>\n",
       "      <td>...</td>\n",
       "      <td>1</td>\n",
       "      <td>2</td>\n",
       "      <td>2</td>\n",
       "      <td>1</td>\n",
       "      <td>2</td>\n",
       "      <td>1</td>\n",
       "      <td>5</td>\n",
       "      <td>70</td>\n",
       "      <td>70</td>\n",
       "      <td>70</td>\n",
       "    </tr>\n",
       "    <tr>\n",
       "      <th>Manager</th>\n",
       "      <td>49</td>\n",
       "      <td>49</td>\n",
       "      <td>49</td>\n",
       "      <td>49</td>\n",
       "      <td>49</td>\n",
       "      <td>49</td>\n",
       "      <td>26</td>\n",
       "      <td>0</td>\n",
       "      <td>49</td>\n",
       "      <td>38</td>\n",
       "      <td>...</td>\n",
       "      <td>0</td>\n",
       "      <td>3</td>\n",
       "      <td>0</td>\n",
       "      <td>0</td>\n",
       "      <td>0</td>\n",
       "      <td>8</td>\n",
       "      <td>3</td>\n",
       "      <td>48</td>\n",
       "      <td>49</td>\n",
       "      <td>49</td>\n",
       "    </tr>\n",
       "    <tr>\n",
       "      <th>Other</th>\n",
       "      <td>18</td>\n",
       "      <td>18</td>\n",
       "      <td>18</td>\n",
       "      <td>18</td>\n",
       "      <td>18</td>\n",
       "      <td>18</td>\n",
       "      <td>7</td>\n",
       "      <td>0</td>\n",
       "      <td>18</td>\n",
       "      <td>16</td>\n",
       "      <td>...</td>\n",
       "      <td>0</td>\n",
       "      <td>0</td>\n",
       "      <td>0</td>\n",
       "      <td>0</td>\n",
       "      <td>0</td>\n",
       "      <td>3</td>\n",
       "      <td>1</td>\n",
       "      <td>18</td>\n",
       "      <td>18</td>\n",
       "      <td>18</td>\n",
       "    </tr>\n",
       "    <tr>\n",
       "      <th>Research Scientist</th>\n",
       "      <td>142</td>\n",
       "      <td>142</td>\n",
       "      <td>142</td>\n",
       "      <td>142</td>\n",
       "      <td>142</td>\n",
       "      <td>142</td>\n",
       "      <td>81</td>\n",
       "      <td>0</td>\n",
       "      <td>142</td>\n",
       "      <td>127</td>\n",
       "      <td>...</td>\n",
       "      <td>0</td>\n",
       "      <td>5</td>\n",
       "      <td>3</td>\n",
       "      <td>0</td>\n",
       "      <td>1</td>\n",
       "      <td>22</td>\n",
       "      <td>3</td>\n",
       "      <td>141</td>\n",
       "      <td>142</td>\n",
       "      <td>142</td>\n",
       "    </tr>\n",
       "    <tr>\n",
       "      <th>Software Engineer</th>\n",
       "      <td>37</td>\n",
       "      <td>37</td>\n",
       "      <td>37</td>\n",
       "      <td>37</td>\n",
       "      <td>37</td>\n",
       "      <td>37</td>\n",
       "      <td>16</td>\n",
       "      <td>0</td>\n",
       "      <td>37</td>\n",
       "      <td>33</td>\n",
       "      <td>...</td>\n",
       "      <td>0</td>\n",
       "      <td>1</td>\n",
       "      <td>2</td>\n",
       "      <td>1</td>\n",
       "      <td>0</td>\n",
       "      <td>3</td>\n",
       "      <td>1</td>\n",
       "      <td>37</td>\n",
       "      <td>37</td>\n",
       "      <td>37</td>\n",
       "    </tr>\n",
       "    <tr>\n",
       "      <th>Statistician</th>\n",
       "      <td>11</td>\n",
       "      <td>11</td>\n",
       "      <td>11</td>\n",
       "      <td>11</td>\n",
       "      <td>11</td>\n",
       "      <td>11</td>\n",
       "      <td>2</td>\n",
       "      <td>0</td>\n",
       "      <td>11</td>\n",
       "      <td>9</td>\n",
       "      <td>...</td>\n",
       "      <td>0</td>\n",
       "      <td>1</td>\n",
       "      <td>0</td>\n",
       "      <td>0</td>\n",
       "      <td>0</td>\n",
       "      <td>3</td>\n",
       "      <td>1</td>\n",
       "      <td>11</td>\n",
       "      <td>11</td>\n",
       "      <td>11</td>\n",
       "    </tr>\n",
       "    <tr>\n",
       "      <th>Teacher/professor</th>\n",
       "      <td>162</td>\n",
       "      <td>162</td>\n",
       "      <td>162</td>\n",
       "      <td>162</td>\n",
       "      <td>162</td>\n",
       "      <td>162</td>\n",
       "      <td>77</td>\n",
       "      <td>0</td>\n",
       "      <td>162</td>\n",
       "      <td>133</td>\n",
       "      <td>...</td>\n",
       "      <td>1</td>\n",
       "      <td>10</td>\n",
       "      <td>4</td>\n",
       "      <td>1</td>\n",
       "      <td>2</td>\n",
       "      <td>26</td>\n",
       "      <td>3</td>\n",
       "      <td>158</td>\n",
       "      <td>162</td>\n",
       "      <td>162</td>\n",
       "    </tr>\n",
       "  </tbody>\n",
       "</table>\n",
       "<p>14 rows × 67 columns</p>\n",
       "</div>"
      ],
      "text/plain": [
       "                         age  gender  country  education_level  published  \\\n",
       "title                                                                       \n",
       "Data Administrator         3       3        3                3          3   \n",
       "Data Analyst              45      45       45               45         45   \n",
       "Data Architect             5       5        5                5          5   \n",
       "Data Engineer             14      14       14               14         14   \n",
       "Data Scientist           185     185      185              185        185   \n",
       "Developer Advocate         7       7        7                7          7   \n",
       "Engineer (non-software)    7       7        7                7          7   \n",
       "ML/MLops Engineer         70      70       70               70         70   \n",
       "Manager                   49      49       49               49         49   \n",
       "Other                     18      18       18               18         18   \n",
       "Research Scientist       142     142      142              142        142   \n",
       "Software Engineer         37      37       37               37         37   \n",
       "Statistician              11      11       11               11         11   \n",
       "Teacher/professor        162     162      162              162        162   \n",
       "\n",
       "                         ml_used_theoretical  ml_used_applied  ml_used_no  \\\n",
       "title                                                                       \n",
       "Data Administrator                         3                1           0   \n",
       "Data Analyst                              45               18           0   \n",
       "Data Architect                             5                3           0   \n",
       "Data Engineer                             14                5           0   \n",
       "Data Scientist                           185               95           0   \n",
       "Developer Advocate                         7                0           0   \n",
       "Engineer (non-software)                    7                3           0   \n",
       "ML/MLops Engineer                         70               34           0   \n",
       "Manager                                   49               26           0   \n",
       "Other                                     18                7           0   \n",
       "Research Scientist                       142               81           0   \n",
       "Software Engineer                         37               16           0   \n",
       "Statistician                              11                2           0   \n",
       "Teacher/professor                        162               77           0   \n",
       "\n",
       "                         code_exp  program_lang_Python  ...  \\\n",
       "title                                                   ...   \n",
       "Data Administrator              3                    2  ...   \n",
       "Data Analyst                   45                   39  ...   \n",
       "Data Architect                  5                    5  ...   \n",
       "Data Engineer                  14                   14  ...   \n",
       "Data Scientist                185                  178  ...   \n",
       "Developer Advocate              7                    3  ...   \n",
       "Engineer (non-software)         7                    6  ...   \n",
       "ML/MLops Engineer              70                   68  ...   \n",
       "Manager                        49                   38  ...   \n",
       "Other                          18                   16  ...   \n",
       "Research Scientist            142                  127  ...   \n",
       "Software Engineer              37                   33  ...   \n",
       "Statistician                   11                    9  ...   \n",
       "Teacher/professor             162                  133  ...   \n",
       "\n",
       "                         cloud_platform_SAPCloud  cloud_platform_VMwareCloud  \\\n",
       "title                                                                          \n",
       "Data Administrator                             0                           0   \n",
       "Data Analyst                                   2                           4   \n",
       "Data Architect                                 0                           0   \n",
       "Data Engineer                                  1                           2   \n",
       "Data Scientist                                 4                           3   \n",
       "Developer Advocate                             1                           1   \n",
       "Engineer (non-software)                        0                           0   \n",
       "ML/MLops Engineer                              1                           2   \n",
       "Manager                                        0                           3   \n",
       "Other                                          0                           0   \n",
       "Research Scientist                             0                           5   \n",
       "Software Engineer                              0                           1   \n",
       "Statistician                                   0                           1   \n",
       "Teacher/professor                              1                          10   \n",
       "\n",
       "                         cloud_platform_AlibabaCloud  \\\n",
       "title                                                  \n",
       "Data Administrator                                 0   \n",
       "Data Analyst                                       2   \n",
       "Data Architect                                     0   \n",
       "Data Engineer                                      2   \n",
       "Data Scientist                                     2   \n",
       "Developer Advocate                                 1   \n",
       "Engineer (non-software)                            0   \n",
       "ML/MLops Engineer                                  2   \n",
       "Manager                                            0   \n",
       "Other                                              0   \n",
       "Research Scientist                                 3   \n",
       "Software Engineer                                  2   \n",
       "Statistician                                       0   \n",
       "Teacher/professor                                  4   \n",
       "\n",
       "                         cloud_platform_TencentCloud  \\\n",
       "title                                                  \n",
       "Data Administrator                                 0   \n",
       "Data Analyst                                       2   \n",
       "Data Architect                                     0   \n",
       "Data Engineer                                      1   \n",
       "Data Scientist                                     2   \n",
       "Developer Advocate                                 1   \n",
       "Engineer (non-software)                            0   \n",
       "ML/MLops Engineer                                  1   \n",
       "Manager                                            0   \n",
       "Other                                              0   \n",
       "Research Scientist                                 0   \n",
       "Software Engineer                                  1   \n",
       "Statistician                                       0   \n",
       "Teacher/professor                                  1   \n",
       "\n",
       "                         cloud_platform_HuaweiCloud  cloud_platform_None  \\\n",
       "title                                                                      \n",
       "Data Administrator                                0                    0   \n",
       "Data Analyst                                      1                    8   \n",
       "Data Architect                                    0                    1   \n",
       "Data Engineer                                     2                    1   \n",
       "Data Scientist                                    0                   13   \n",
       "Developer Advocate                                1                    1   \n",
       "Engineer (non-software)                           0                    0   \n",
       "ML/MLops Engineer                                 2                    1   \n",
       "Manager                                           0                    8   \n",
       "Other                                             0                    3   \n",
       "Research Scientist                                1                   22   \n",
       "Software Engineer                                 0                    3   \n",
       "Statistician                                      0                    3   \n",
       "Teacher/professor                                 2                   26   \n",
       "\n",
       "                         cloud_platform_Other  stage_index  count  edu_group  \n",
       "title                                                                         \n",
       "Data Administrator                          0            3      3          3  \n",
       "Data Analyst                                1           43     45         45  \n",
       "Data Architect                              0            5      5          5  \n",
       "Data Engineer                               0           14     14         14  \n",
       "Data Scientist                              4          180    185        185  \n",
       "Developer Advocate                          0            7      7          7  \n",
       "Engineer (non-software)                     0            7      7          7  \n",
       "ML/MLops Engineer                           5           70     70         70  \n",
       "Manager                                     3           48     49         49  \n",
       "Other                                       1           18     18         18  \n",
       "Research Scientist                          3          141    142        142  \n",
       "Software Engineer                           1           37     37         37  \n",
       "Statistician                                1           11     11         11  \n",
       "Teacher/professor                           3          158    162        162  \n",
       "\n",
       "[14 rows x 67 columns]"
      ]
     },
     "execution_count": 34,
     "metadata": {},
     "output_type": "execute_result"
    }
   ],
   "source": [
    "df_theo = df.query('ml_used_theoretical.notna()').groupby(by='title').count()\n",
    "df_theo"
   ]
  },
  {
   "cell_type": "code",
   "execution_count": 35,
   "metadata": {},
   "outputs": [],
   "source": [
    "from pandas.plotting import parallel_coordinates"
   ]
  },
  {
   "cell_type": "code",
   "execution_count": 36,
   "metadata": {},
   "outputs": [
    {
     "data": {
      "text/html": [
       "<div>\n",
       "<style scoped>\n",
       "    .dataframe tbody tr th:only-of-type {\n",
       "        vertical-align: middle;\n",
       "    }\n",
       "\n",
       "    .dataframe tbody tr th {\n",
       "        vertical-align: top;\n",
       "    }\n",
       "\n",
       "    .dataframe thead th {\n",
       "        text-align: right;\n",
       "    }\n",
       "</style>\n",
       "<table border=\"1\" class=\"dataframe\">\n",
       "  <thead>\n",
       "    <tr style=\"text-align: right;\">\n",
       "      <th></th>\n",
       "      <th>title</th>\n",
       "      <th>pct_theoretical</th>\n",
       "      <th>pct_applied</th>\n",
       "      <th>pct_no</th>\n",
       "    </tr>\n",
       "  </thead>\n",
       "  <tbody>\n",
       "    <tr>\n",
       "      <th>0</th>\n",
       "      <td>Engineer (non-software)</td>\n",
       "      <td>2.941176</td>\n",
       "      <td>12.184874</td>\n",
       "      <td>30.672269</td>\n",
       "    </tr>\n",
       "    <tr>\n",
       "      <th>1</th>\n",
       "      <td>Other</td>\n",
       "      <td>4.615385</td>\n",
       "      <td>9.230769</td>\n",
       "      <td>25.384615</td>\n",
       "    </tr>\n",
       "    <tr>\n",
       "      <th>2</th>\n",
       "      <td>Data Analyst</td>\n",
       "      <td>5.617978</td>\n",
       "      <td>10.362047</td>\n",
       "      <td>17.602996</td>\n",
       "    </tr>\n",
       "    <tr>\n",
       "      <th>3</th>\n",
       "      <td>Software Engineer</td>\n",
       "      <td>8.008658</td>\n",
       "      <td>15.367965</td>\n",
       "      <td>17.532468</td>\n",
       "    </tr>\n",
       "    <tr>\n",
       "      <th>4</th>\n",
       "      <td>Data Engineer</td>\n",
       "      <td>8.187135</td>\n",
       "      <td>15.204678</td>\n",
       "      <td>15.204678</td>\n",
       "    </tr>\n",
       "    <tr>\n",
       "      <th>5</th>\n",
       "      <td>Manager</td>\n",
       "      <td>8.626761</td>\n",
       "      <td>17.957746</td>\n",
       "      <td>17.957746</td>\n",
       "    </tr>\n",
       "    <tr>\n",
       "      <th>6</th>\n",
       "      <td>Data Architect</td>\n",
       "      <td>9.433962</td>\n",
       "      <td>13.207547</td>\n",
       "      <td>13.207547</td>\n",
       "    </tr>\n",
       "    <tr>\n",
       "      <th>7</th>\n",
       "      <td>Data Administrator</td>\n",
       "      <td>9.677419</td>\n",
       "      <td>6.451613</td>\n",
       "      <td>9.677419</td>\n",
       "    </tr>\n",
       "    <tr>\n",
       "      <th>8</th>\n",
       "      <td>Statistician</td>\n",
       "      <td>12.222222</td>\n",
       "      <td>22.222222</td>\n",
       "      <td>18.888889</td>\n",
       "    </tr>\n",
       "    <tr>\n",
       "      <th>9</th>\n",
       "      <td>Data Scientist</td>\n",
       "      <td>13.754647</td>\n",
       "      <td>28.252788</td>\n",
       "      <td>17.249071</td>\n",
       "    </tr>\n",
       "    <tr>\n",
       "      <th>10</th>\n",
       "      <td>ML/MLops Engineer</td>\n",
       "      <td>19.073569</td>\n",
       "      <td>30.790191</td>\n",
       "      <td>10.626703</td>\n",
       "    </tr>\n",
       "    <tr>\n",
       "      <th>11</th>\n",
       "      <td>Teacher/professor</td>\n",
       "      <td>23.275862</td>\n",
       "      <td>40.660920</td>\n",
       "      <td>26.436782</td>\n",
       "    </tr>\n",
       "    <tr>\n",
       "      <th>12</th>\n",
       "      <td>Research Scientist</td>\n",
       "      <td>27.952756</td>\n",
       "      <td>50.984252</td>\n",
       "      <td>24.409449</td>\n",
       "    </tr>\n",
       "    <tr>\n",
       "      <th>13</th>\n",
       "      <td>Developer Advocate</td>\n",
       "      <td>30.434783</td>\n",
       "      <td>8.695652</td>\n",
       "      <td>13.043478</td>\n",
       "    </tr>\n",
       "  </tbody>\n",
       "</table>\n",
       "</div>"
      ],
      "text/plain": [
       "                      title  pct_theoretical  pct_applied     pct_no\n",
       "0   Engineer (non-software)         2.941176    12.184874  30.672269\n",
       "1                     Other         4.615385     9.230769  25.384615\n",
       "2              Data Analyst         5.617978    10.362047  17.602996\n",
       "3         Software Engineer         8.008658    15.367965  17.532468\n",
       "4             Data Engineer         8.187135    15.204678  15.204678\n",
       "5                   Manager         8.626761    17.957746  17.957746\n",
       "6            Data Architect         9.433962    13.207547  13.207547\n",
       "7        Data Administrator         9.677419     6.451613   9.677419\n",
       "8              Statistician        12.222222    22.222222  18.888889\n",
       "9            Data Scientist        13.754647    28.252788  17.249071\n",
       "10        ML/MLops Engineer        19.073569    30.790191  10.626703\n",
       "11        Teacher/professor        23.275862    40.660920  26.436782\n",
       "12       Research Scientist        27.952756    50.984252  24.409449\n",
       "13       Developer Advocate        30.434783     8.695652  13.043478"
      ]
     },
     "execution_count": 36,
     "metadata": {},
     "output_type": "execute_result"
    }
   ],
   "source": [
    "ml_used_df = df.dropna(subset=['published'], how='all')\n",
    "title_count = ml_used_df.groupby('title').size()\n",
    "ml_theoretical = ml_used_df.groupby('title')['ml_used_theoretical'].count()\n",
    "ml_applied = ml_used_df.groupby('title')['ml_used_applied'].count()\n",
    "ml_no = ml_used_df.groupby('title')['ml_used_no'].count()\n",
    "ml_used = pd.concat([title_count, ml_theoretical, ml_applied, ml_no], axis=1)\n",
    "ml_used = ml_used.rename(columns={0: 'count'}).reset_index()\n",
    "ml_used = (\n",
    "    ml_used\n",
    "    .eval('pct_theoretical = ml_used_theoretical / count * 100')\n",
    "    .eval('pct_applied = ml_used_applied / count * 100')\n",
    "    .eval('pct_no= ml_used_no / count * 100')\n",
    "    .drop(['ml_used_theoretical', 'ml_used_applied', 'ml_used_no', 'count'], axis=1)\n",
    "    .sort_values('pct_theoretical')\n",
    "    .reset_index(drop=True)\n",
    ")\n",
    "ml_used"
   ]
  },
  {
   "cell_type": "code",
   "execution_count": 37,
   "metadata": {},
   "outputs": [],
   "source": [
    "# Plot\n",
    "plt.figure(figsize=(10,7), dpi= 200)\n",
    "parallel_coordinates(ml_used, 'title', colormap='tab20')\n",
    "labels = ['% Theoretical Research', '% Applied Research', '% No Research']\n",
    "\n",
    "# Lighten borders\n",
    "plt.gca().spines[\"top\"].set_alpha(0)\n",
    "plt.gca().spines[\"bottom\"].set_alpha(.3)\n",
    "plt.gca().spines[\"right\"].set_alpha(0)\n",
    "plt.gca().spines[\"left\"].set_alpha(.3)\n",
    "\n",
    "plt.title('Use of Machine Learning in published Research by Title\\n', fontsize=15, fontweight='bold', ha='center', fontname = 'arial', color = '#C41E3A')\n",
    "plt.grid(alpha=0.3)\n",
    "plt.xticks([0, 1, 2], labels, fontsize=9, fontweight='bold')\n",
    "plt.yticks(fontsize=9, fontweight='bold')\n",
    "\n",
    "plt.legend(loc='center left', bbox_to_anchor=(1, 0.5))\n",
    "\n",
    "plt.savefig('./charts/Use of ML.png')\n",
    "plt.close('all')"
   ]
  },
  {
   "cell_type": "code",
   "execution_count": 38,
   "metadata": {},
   "outputs": [
    {
     "data": {
      "application/vnd.plotly.v1+json": {
       "config": {
        "plotlyServerURL": "https://plot.ly"
       },
       "data": [
        {
         "dimensions": [
          {
           "label": "<b>Title</b>",
           "range": [
            0,
            13
           ],
           "ticktext": [
            "Engineer (non-software)",
            "Other",
            "Data Analyst",
            "Software Engineer",
            "Data Engineer",
            "Manager",
            "Data Architect",
            "Data Administrator",
            "Statistician",
            "Data Scientist",
            "ML/MLops Engineer",
            "Teacher/professor",
            "Research Scientist",
            "Developer Advocate"
           ],
           "tickvals": [
            0,
            1,
            2,
            3,
            4,
            5,
            6,
            7,
            8,
            9,
            10,
            11,
            12,
            13
           ],
           "values": [
            0,
            1,
            2,
            3,
            4,
            5,
            6,
            7,
            8,
            9,
            10,
            11,
            12,
            13
           ]
          },
          {
           "label": "<b>% Theoretical Research</b>",
           "range": [
            0,
            55
           ],
           "values": [
            2.941176470588235,
            4.615384615384616,
            5.617977528089887,
            8.008658008658008,
            8.187134502923977,
            8.626760563380282,
            9.433962264150944,
            9.67741935483871,
            12.222222222222221,
            13.754646840148698,
            19.07356948228883,
            23.275862068965516,
            27.95275590551181,
            30.434782608695656
           ]
          },
          {
           "label": "<b>% Applied Research</b>",
           "range": [
            0,
            55
           ],
           "values": [
            12.184873949579831,
            9.230769230769232,
            10.362047440699126,
            15.367965367965366,
            15.204678362573098,
            17.95774647887324,
            13.20754716981132,
            6.451612903225806,
            22.22222222222222,
            28.25278810408922,
            30.79019073569482,
            40.660919540229884,
            50.98425196850393,
            8.695652173913043
           ]
          },
          {
           "label": "<b>% Not used</b>",
           "range": [
            0,
            55
           ],
           "values": [
            30.672268907563026,
            25.384615384615383,
            17.60299625468165,
            17.532467532467532,
            15.204678362573098,
            17.95774647887324,
            13.20754716981132,
            9.67741935483871,
            18.88888888888889,
            17.24907063197026,
            10.626702997275205,
            26.436781609195403,
            24.409448818897637,
            13.043478260869565
           ]
          }
         ],
         "line": {
          "color": [
           0,
           1,
           2,
           3,
           4,
           5,
           6,
           7,
           8,
           9,
           10,
           11,
           12,
           13
          ],
          "colorscale": [
           [
            0,
            "#3366CC"
           ],
           [
            0.1111111111111111,
            "#DC3912"
           ],
           [
            0.2222222222222222,
            "#FF9900"
           ],
           [
            0.3333333333333333,
            "#109618"
           ],
           [
            0.4444444444444444,
            "#990099"
           ],
           [
            0.5555555555555556,
            "#0099C6"
           ],
           [
            0.6666666666666666,
            "#DD4477"
           ],
           [
            0.7777777777777778,
            "#66AA00"
           ],
           [
            0.8888888888888888,
            "#B82E2E"
           ],
           [
            1,
            "#316395"
           ]
          ]
         },
         "type": "parcoords"
        }
       ],
       "layout": {
        "autosize": false,
        "height": 500,
        "margin": {
         "b": 50,
         "l": 150,
         "t": 100
        },
        "template": {
         "data": {
          "bar": [
           {
            "error_x": {
             "color": "#2a3f5f"
            },
            "error_y": {
             "color": "#2a3f5f"
            },
            "marker": {
             "line": {
              "color": "#E5ECF6",
              "width": 0.5
             },
             "pattern": {
              "fillmode": "overlay",
              "size": 10,
              "solidity": 0.2
             }
            },
            "type": "bar"
           }
          ],
          "barpolar": [
           {
            "marker": {
             "line": {
              "color": "#E5ECF6",
              "width": 0.5
             },
             "pattern": {
              "fillmode": "overlay",
              "size": 10,
              "solidity": 0.2
             }
            },
            "type": "barpolar"
           }
          ],
          "carpet": [
           {
            "aaxis": {
             "endlinecolor": "#2a3f5f",
             "gridcolor": "white",
             "linecolor": "white",
             "minorgridcolor": "white",
             "startlinecolor": "#2a3f5f"
            },
            "baxis": {
             "endlinecolor": "#2a3f5f",
             "gridcolor": "white",
             "linecolor": "white",
             "minorgridcolor": "white",
             "startlinecolor": "#2a3f5f"
            },
            "type": "carpet"
           }
          ],
          "choropleth": [
           {
            "colorbar": {
             "outlinewidth": 0,
             "ticks": ""
            },
            "type": "choropleth"
           }
          ],
          "contour": [
           {
            "colorbar": {
             "outlinewidth": 0,
             "ticks": ""
            },
            "colorscale": [
             [
              0,
              "#0d0887"
             ],
             [
              0.1111111111111111,
              "#46039f"
             ],
             [
              0.2222222222222222,
              "#7201a8"
             ],
             [
              0.3333333333333333,
              "#9c179e"
             ],
             [
              0.4444444444444444,
              "#bd3786"
             ],
             [
              0.5555555555555556,
              "#d8576b"
             ],
             [
              0.6666666666666666,
              "#ed7953"
             ],
             [
              0.7777777777777778,
              "#fb9f3a"
             ],
             [
              0.8888888888888888,
              "#fdca26"
             ],
             [
              1,
              "#f0f921"
             ]
            ],
            "type": "contour"
           }
          ],
          "contourcarpet": [
           {
            "colorbar": {
             "outlinewidth": 0,
             "ticks": ""
            },
            "type": "contourcarpet"
           }
          ],
          "heatmap": [
           {
            "colorbar": {
             "outlinewidth": 0,
             "ticks": ""
            },
            "colorscale": [
             [
              0,
              "#0d0887"
             ],
             [
              0.1111111111111111,
              "#46039f"
             ],
             [
              0.2222222222222222,
              "#7201a8"
             ],
             [
              0.3333333333333333,
              "#9c179e"
             ],
             [
              0.4444444444444444,
              "#bd3786"
             ],
             [
              0.5555555555555556,
              "#d8576b"
             ],
             [
              0.6666666666666666,
              "#ed7953"
             ],
             [
              0.7777777777777778,
              "#fb9f3a"
             ],
             [
              0.8888888888888888,
              "#fdca26"
             ],
             [
              1,
              "#f0f921"
             ]
            ],
            "type": "heatmap"
           }
          ],
          "heatmapgl": [
           {
            "colorbar": {
             "outlinewidth": 0,
             "ticks": ""
            },
            "colorscale": [
             [
              0,
              "#0d0887"
             ],
             [
              0.1111111111111111,
              "#46039f"
             ],
             [
              0.2222222222222222,
              "#7201a8"
             ],
             [
              0.3333333333333333,
              "#9c179e"
             ],
             [
              0.4444444444444444,
              "#bd3786"
             ],
             [
              0.5555555555555556,
              "#d8576b"
             ],
             [
              0.6666666666666666,
              "#ed7953"
             ],
             [
              0.7777777777777778,
              "#fb9f3a"
             ],
             [
              0.8888888888888888,
              "#fdca26"
             ],
             [
              1,
              "#f0f921"
             ]
            ],
            "type": "heatmapgl"
           }
          ],
          "histogram": [
           {
            "marker": {
             "pattern": {
              "fillmode": "overlay",
              "size": 10,
              "solidity": 0.2
             }
            },
            "type": "histogram"
           }
          ],
          "histogram2d": [
           {
            "colorbar": {
             "outlinewidth": 0,
             "ticks": ""
            },
            "colorscale": [
             [
              0,
              "#0d0887"
             ],
             [
              0.1111111111111111,
              "#46039f"
             ],
             [
              0.2222222222222222,
              "#7201a8"
             ],
             [
              0.3333333333333333,
              "#9c179e"
             ],
             [
              0.4444444444444444,
              "#bd3786"
             ],
             [
              0.5555555555555556,
              "#d8576b"
             ],
             [
              0.6666666666666666,
              "#ed7953"
             ],
             [
              0.7777777777777778,
              "#fb9f3a"
             ],
             [
              0.8888888888888888,
              "#fdca26"
             ],
             [
              1,
              "#f0f921"
             ]
            ],
            "type": "histogram2d"
           }
          ],
          "histogram2dcontour": [
           {
            "colorbar": {
             "outlinewidth": 0,
             "ticks": ""
            },
            "colorscale": [
             [
              0,
              "#0d0887"
             ],
             [
              0.1111111111111111,
              "#46039f"
             ],
             [
              0.2222222222222222,
              "#7201a8"
             ],
             [
              0.3333333333333333,
              "#9c179e"
             ],
             [
              0.4444444444444444,
              "#bd3786"
             ],
             [
              0.5555555555555556,
              "#d8576b"
             ],
             [
              0.6666666666666666,
              "#ed7953"
             ],
             [
              0.7777777777777778,
              "#fb9f3a"
             ],
             [
              0.8888888888888888,
              "#fdca26"
             ],
             [
              1,
              "#f0f921"
             ]
            ],
            "type": "histogram2dcontour"
           }
          ],
          "mesh3d": [
           {
            "colorbar": {
             "outlinewidth": 0,
             "ticks": ""
            },
            "type": "mesh3d"
           }
          ],
          "parcoords": [
           {
            "line": {
             "colorbar": {
              "outlinewidth": 0,
              "ticks": ""
             }
            },
            "type": "parcoords"
           }
          ],
          "pie": [
           {
            "automargin": true,
            "type": "pie"
           }
          ],
          "scatter": [
           {
            "fillpattern": {
             "fillmode": "overlay",
             "size": 10,
             "solidity": 0.2
            },
            "type": "scatter"
           }
          ],
          "scatter3d": [
           {
            "line": {
             "colorbar": {
              "outlinewidth": 0,
              "ticks": ""
             }
            },
            "marker": {
             "colorbar": {
              "outlinewidth": 0,
              "ticks": ""
             }
            },
            "type": "scatter3d"
           }
          ],
          "scattercarpet": [
           {
            "marker": {
             "colorbar": {
              "outlinewidth": 0,
              "ticks": ""
             }
            },
            "type": "scattercarpet"
           }
          ],
          "scattergeo": [
           {
            "marker": {
             "colorbar": {
              "outlinewidth": 0,
              "ticks": ""
             }
            },
            "type": "scattergeo"
           }
          ],
          "scattergl": [
           {
            "marker": {
             "colorbar": {
              "outlinewidth": 0,
              "ticks": ""
             }
            },
            "type": "scattergl"
           }
          ],
          "scattermapbox": [
           {
            "marker": {
             "colorbar": {
              "outlinewidth": 0,
              "ticks": ""
             }
            },
            "type": "scattermapbox"
           }
          ],
          "scatterpolar": [
           {
            "marker": {
             "colorbar": {
              "outlinewidth": 0,
              "ticks": ""
             }
            },
            "type": "scatterpolar"
           }
          ],
          "scatterpolargl": [
           {
            "marker": {
             "colorbar": {
              "outlinewidth": 0,
              "ticks": ""
             }
            },
            "type": "scatterpolargl"
           }
          ],
          "scatterternary": [
           {
            "marker": {
             "colorbar": {
              "outlinewidth": 0,
              "ticks": ""
             }
            },
            "type": "scatterternary"
           }
          ],
          "surface": [
           {
            "colorbar": {
             "outlinewidth": 0,
             "ticks": ""
            },
            "colorscale": [
             [
              0,
              "#0d0887"
             ],
             [
              0.1111111111111111,
              "#46039f"
             ],
             [
              0.2222222222222222,
              "#7201a8"
             ],
             [
              0.3333333333333333,
              "#9c179e"
             ],
             [
              0.4444444444444444,
              "#bd3786"
             ],
             [
              0.5555555555555556,
              "#d8576b"
             ],
             [
              0.6666666666666666,
              "#ed7953"
             ],
             [
              0.7777777777777778,
              "#fb9f3a"
             ],
             [
              0.8888888888888888,
              "#fdca26"
             ],
             [
              1,
              "#f0f921"
             ]
            ],
            "type": "surface"
           }
          ],
          "table": [
           {
            "cells": {
             "fill": {
              "color": "#EBF0F8"
             },
             "line": {
              "color": "white"
             }
            },
            "header": {
             "fill": {
              "color": "#C8D4E3"
             },
             "line": {
              "color": "white"
             }
            },
            "type": "table"
           }
          ]
         },
         "layout": {
          "annotationdefaults": {
           "arrowcolor": "#2a3f5f",
           "arrowhead": 0,
           "arrowwidth": 1
          },
          "autotypenumbers": "strict",
          "coloraxis": {
           "colorbar": {
            "outlinewidth": 0,
            "ticks": ""
           }
          },
          "colorscale": {
           "diverging": [
            [
             0,
             "#8e0152"
            ],
            [
             0.1,
             "#c51b7d"
            ],
            [
             0.2,
             "#de77ae"
            ],
            [
             0.3,
             "#f1b6da"
            ],
            [
             0.4,
             "#fde0ef"
            ],
            [
             0.5,
             "#f7f7f7"
            ],
            [
             0.6,
             "#e6f5d0"
            ],
            [
             0.7,
             "#b8e186"
            ],
            [
             0.8,
             "#7fbc41"
            ],
            [
             0.9,
             "#4d9221"
            ],
            [
             1,
             "#276419"
            ]
           ],
           "sequential": [
            [
             0,
             "#0d0887"
            ],
            [
             0.1111111111111111,
             "#46039f"
            ],
            [
             0.2222222222222222,
             "#7201a8"
            ],
            [
             0.3333333333333333,
             "#9c179e"
            ],
            [
             0.4444444444444444,
             "#bd3786"
            ],
            [
             0.5555555555555556,
             "#d8576b"
            ],
            [
             0.6666666666666666,
             "#ed7953"
            ],
            [
             0.7777777777777778,
             "#fb9f3a"
            ],
            [
             0.8888888888888888,
             "#fdca26"
            ],
            [
             1,
             "#f0f921"
            ]
           ],
           "sequentialminus": [
            [
             0,
             "#0d0887"
            ],
            [
             0.1111111111111111,
             "#46039f"
            ],
            [
             0.2222222222222222,
             "#7201a8"
            ],
            [
             0.3333333333333333,
             "#9c179e"
            ],
            [
             0.4444444444444444,
             "#bd3786"
            ],
            [
             0.5555555555555556,
             "#d8576b"
            ],
            [
             0.6666666666666666,
             "#ed7953"
            ],
            [
             0.7777777777777778,
             "#fb9f3a"
            ],
            [
             0.8888888888888888,
             "#fdca26"
            ],
            [
             1,
             "#f0f921"
            ]
           ]
          },
          "colorway": [
           "#636efa",
           "#EF553B",
           "#00cc96",
           "#ab63fa",
           "#FFA15A",
           "#19d3f3",
           "#FF6692",
           "#B6E880",
           "#FF97FF",
           "#FECB52"
          ],
          "font": {
           "color": "#2a3f5f"
          },
          "geo": {
           "bgcolor": "white",
           "lakecolor": "white",
           "landcolor": "#E5ECF6",
           "showlakes": true,
           "showland": true,
           "subunitcolor": "white"
          },
          "hoverlabel": {
           "align": "left"
          },
          "hovermode": "closest",
          "mapbox": {
           "style": "light"
          },
          "paper_bgcolor": "white",
          "plot_bgcolor": "#E5ECF6",
          "polar": {
           "angularaxis": {
            "gridcolor": "white",
            "linecolor": "white",
            "ticks": ""
           },
           "bgcolor": "#E5ECF6",
           "radialaxis": {
            "gridcolor": "white",
            "linecolor": "white",
            "ticks": ""
           }
          },
          "scene": {
           "xaxis": {
            "backgroundcolor": "#E5ECF6",
            "gridcolor": "white",
            "gridwidth": 2,
            "linecolor": "white",
            "showbackground": true,
            "ticks": "",
            "zerolinecolor": "white"
           },
           "yaxis": {
            "backgroundcolor": "#E5ECF6",
            "gridcolor": "white",
            "gridwidth": 2,
            "linecolor": "white",
            "showbackground": true,
            "ticks": "",
            "zerolinecolor": "white"
           },
           "zaxis": {
            "backgroundcolor": "#E5ECF6",
            "gridcolor": "white",
            "gridwidth": 2,
            "linecolor": "white",
            "showbackground": true,
            "ticks": "",
            "zerolinecolor": "white"
           }
          },
          "shapedefaults": {
           "line": {
            "color": "#2a3f5f"
           }
          },
          "ternary": {
           "aaxis": {
            "gridcolor": "white",
            "linecolor": "white",
            "ticks": ""
           },
           "baxis": {
            "gridcolor": "white",
            "linecolor": "white",
            "ticks": ""
           },
           "bgcolor": "#E5ECF6",
           "caxis": {
            "gridcolor": "white",
            "linecolor": "white",
            "ticks": ""
           }
          },
          "title": {
           "x": 0.05
          },
          "xaxis": {
           "automargin": true,
           "gridcolor": "white",
           "linecolor": "white",
           "ticks": "",
           "title": {
            "standoff": 15
           },
           "zerolinecolor": "white",
           "zerolinewidth": 2
          },
          "yaxis": {
           "automargin": true,
           "gridcolor": "white",
           "linecolor": "white",
           "ticks": "",
           "title": {
            "standoff": 15
           },
           "zerolinecolor": "white",
           "zerolinewidth": 2
          }
         }
        },
        "title": {
         "font": {
          "color": "#C41E3A",
          "family": "arial",
          "size": 20
         },
         "text": "<b>Use of Machine Learning in published research by title</b>",
         "x": 0.5
        },
        "width": 800
       }
      }
     },
     "metadata": {},
     "output_type": "display_data"
    }
   ],
   "source": [
    "import plotly.graph_objects as go\n",
    "import plotly.express as px\n",
    " \n",
    "value_range = [0, 55]\n",
    " \n",
    "dimensions = [\n",
    "    dict(\n",
    "        range=[0, ml_used.index.max()],\n",
    "        label='<b>Title</b>',\n",
    "        values=ml_used.index,\n",
    "        tickvals = ml_used.index,\n",
    "        ticktext = ml_used['title'],\n",
    "    ),\n",
    "    dict(\n",
    "        range=value_range,\n",
    "        label='<b>% Theoretical Research</b>',\n",
    "        values=ml_used['pct_theoretical']\n",
    "    ),\n",
    "    dict(\n",
    "        range=value_range,\n",
    "        label='<b>% Applied Research</b>',\n",
    "        values=ml_used['pct_applied']\n",
    "    ),\n",
    "    dict(\n",
    "        range=value_range,\n",
    "        label='<b>% Not used</b>',\n",
    "        values=ml_used['pct_no']\n",
    "    ),\n",
    "]\n",
    " \n",
    "fig = go.Figure(\n",
    "    data=go.Parcoords(\n",
    "        line=dict(\n",
    "            color=ml_used.index,\n",
    "            colorscale=px.colors.qualitative.G10,\n",
    "        ),\n",
    "        dimensions=dimensions,\n",
    "    ),\n",
    ")\n",
    " \n",
    "fig.update_layout(\n",
    "    autosize=False,\n",
    "    width=800,\n",
    "    height=500,\n",
    "    margin=dict(\n",
    "        l=150,\n",
    "        b=50,\n",
    "        t=100,\n",
    "    ),\n",
    "    title='<b>Use of Machine Learning in published research by title</b>',\n",
    "    title_font_size=20,\n",
    "    title_x=0.5,\n",
    "    title_font_family = 'arial',\n",
    "    title_font_color = '#C41E3A',\n",
    ")\n",
    " \n",
    "fig.show()\n",
    " \n",
    "fig.write_image('./charts/Use of ML in research_PL.png', scale=2)"
   ]
  },
  {
   "cell_type": "markdown",
   "metadata": {},
   "source": [
    "## 3.Essential tasks and skill sets per Role"
   ]
  },
  {
   "cell_type": "code",
   "execution_count": 39,
   "metadata": {},
   "outputs": [],
   "source": [
    "# Load packages\n",
    "import pandas as pd\n",
    "import numpy as np\n",
    "import plotly\n",
    "import plotly.graph_objects as go\n",
    "import plotly.express as px\n",
    "import matplotlib.colors"
   ]
  },
  {
   "cell_type": "code",
   "execution_count": 40,
   "metadata": {},
   "outputs": [
    {
     "data": {
      "text/html": [
       "<div>\n",
       "<style scoped>\n",
       "    .dataframe tbody tr th:only-of-type {\n",
       "        vertical-align: middle;\n",
       "    }\n",
       "\n",
       "    .dataframe tbody tr th {\n",
       "        vertical-align: top;\n",
       "    }\n",
       "\n",
       "    .dataframe thead th {\n",
       "        text-align: right;\n",
       "    }\n",
       "</style>\n",
       "<table border=\"1\" class=\"dataframe\">\n",
       "  <thead>\n",
       "    <tr style=\"text-align: right;\">\n",
       "      <th></th>\n",
       "      <th>age</th>\n",
       "      <th>gender</th>\n",
       "      <th>country</th>\n",
       "      <th>education_level</th>\n",
       "      <th>published</th>\n",
       "      <th>ml_used_theoretical</th>\n",
       "      <th>ml_used_applied</th>\n",
       "      <th>ml_used_no</th>\n",
       "      <th>code_exp</th>\n",
       "      <th>program_lang_Python</th>\n",
       "      <th>...</th>\n",
       "      <th>cloud_platform_SAPCloud</th>\n",
       "      <th>cloud_platform_VMwareCloud</th>\n",
       "      <th>cloud_platform_AlibabaCloud</th>\n",
       "      <th>cloud_platform_TencentCloud</th>\n",
       "      <th>cloud_platform_HuaweiCloud</th>\n",
       "      <th>cloud_platform_None</th>\n",
       "      <th>cloud_platform_Other</th>\n",
       "      <th>stage_index</th>\n",
       "      <th>count</th>\n",
       "      <th>edu_group</th>\n",
       "    </tr>\n",
       "  </thead>\n",
       "  <tbody>\n",
       "    <tr>\n",
       "      <th>3</th>\n",
       "      <td>55-59</td>\n",
       "      <td>Man</td>\n",
       "      <td>France</td>\n",
       "      <td>Some college/university study without earning ...</td>\n",
       "      <td>NaN</td>\n",
       "      <td>NaN</td>\n",
       "      <td>NaN</td>\n",
       "      <td>NaN</td>\n",
       "      <td>10-20 years</td>\n",
       "      <td>Python</td>\n",
       "      <td>...</td>\n",
       "      <td>NaN</td>\n",
       "      <td>NaN</td>\n",
       "      <td>NaN</td>\n",
       "      <td>NaN</td>\n",
       "      <td>NaN</td>\n",
       "      <td>NaN</td>\n",
       "      <td>Other</td>\n",
       "      <td>3.0</td>\n",
       "      <td>1</td>\n",
       "      <td>Below Bachelor's Degree</td>\n",
       "    </tr>\n",
       "    <tr>\n",
       "      <th>7</th>\n",
       "      <td>30-34</td>\n",
       "      <td>Man</td>\n",
       "      <td>Germany</td>\n",
       "      <td>Bachelor’s degree</td>\n",
       "      <td>NaN</td>\n",
       "      <td>NaN</td>\n",
       "      <td>NaN</td>\n",
       "      <td>NaN</td>\n",
       "      <td>10-20 years</td>\n",
       "      <td>Python</td>\n",
       "      <td>...</td>\n",
       "      <td>NaN</td>\n",
       "      <td>NaN</td>\n",
       "      <td>NaN</td>\n",
       "      <td>NaN</td>\n",
       "      <td>NaN</td>\n",
       "      <td>NaN</td>\n",
       "      <td>NaN</td>\n",
       "      <td>4.0</td>\n",
       "      <td>1</td>\n",
       "      <td>Bachelor’s degree</td>\n",
       "    </tr>\n",
       "    <tr>\n",
       "      <th>8</th>\n",
       "      <td>70+</td>\n",
       "      <td>Man</td>\n",
       "      <td>Australia</td>\n",
       "      <td>Doctoral degree</td>\n",
       "      <td>Yes</td>\n",
       "      <td>NaN</td>\n",
       "      <td>Yes, the research made use of machine learning...</td>\n",
       "      <td>NaN</td>\n",
       "      <td>20+ years</td>\n",
       "      <td>Python</td>\n",
       "      <td>...</td>\n",
       "      <td>NaN</td>\n",
       "      <td>NaN</td>\n",
       "      <td>NaN</td>\n",
       "      <td>NaN</td>\n",
       "      <td>NaN</td>\n",
       "      <td>NaN</td>\n",
       "      <td>NaN</td>\n",
       "      <td>3.0</td>\n",
       "      <td>1</td>\n",
       "      <td>Above Master's Degree</td>\n",
       "    </tr>\n",
       "    <tr>\n",
       "      <th>10</th>\n",
       "      <td>55-59</td>\n",
       "      <td>Man</td>\n",
       "      <td>South Korea</td>\n",
       "      <td>Master’s degree</td>\n",
       "      <td>No</td>\n",
       "      <td>NaN</td>\n",
       "      <td>NaN</td>\n",
       "      <td>NaN</td>\n",
       "      <td>1-3 years</td>\n",
       "      <td>Python</td>\n",
       "      <td>...</td>\n",
       "      <td>NaN</td>\n",
       "      <td>NaN</td>\n",
       "      <td>NaN</td>\n",
       "      <td>NaN</td>\n",
       "      <td>NaN</td>\n",
       "      <td>NaN</td>\n",
       "      <td>NaN</td>\n",
       "      <td>3.0</td>\n",
       "      <td>1</td>\n",
       "      <td>Master’s degree</td>\n",
       "    </tr>\n",
       "    <tr>\n",
       "      <th>13</th>\n",
       "      <td>40-44</td>\n",
       "      <td>Man</td>\n",
       "      <td>United States of America</td>\n",
       "      <td>Doctoral degree</td>\n",
       "      <td>Yes</td>\n",
       "      <td>Yes, the research made advances related to som...</td>\n",
       "      <td>NaN</td>\n",
       "      <td>NaN</td>\n",
       "      <td>10-20 years</td>\n",
       "      <td>Python</td>\n",
       "      <td>...</td>\n",
       "      <td>NaN</td>\n",
       "      <td>NaN</td>\n",
       "      <td>NaN</td>\n",
       "      <td>NaN</td>\n",
       "      <td>NaN</td>\n",
       "      <td>NaN</td>\n",
       "      <td>NaN</td>\n",
       "      <td>4.0</td>\n",
       "      <td>1</td>\n",
       "      <td>Above Master's Degree</td>\n",
       "    </tr>\n",
       "  </tbody>\n",
       "</table>\n",
       "<p>5 rows × 68 columns</p>\n",
       "</div>"
      ],
      "text/plain": [
       "      age gender                   country  \\\n",
       "3   55-59    Man                    France   \n",
       "7   30-34    Man                   Germany   \n",
       "8     70+    Man                 Australia   \n",
       "10  55-59    Man               South Korea   \n",
       "13  40-44    Man  United States of America   \n",
       "\n",
       "                                      education_level published  \\\n",
       "3   Some college/university study without earning ...       NaN   \n",
       "7                                   Bachelor’s degree       NaN   \n",
       "8                                     Doctoral degree       Yes   \n",
       "10                                    Master’s degree        No   \n",
       "13                                    Doctoral degree       Yes   \n",
       "\n",
       "                                  ml_used_theoretical  \\\n",
       "3                                                 NaN   \n",
       "7                                                 NaN   \n",
       "8                                                 NaN   \n",
       "10                                                NaN   \n",
       "13  Yes, the research made advances related to som...   \n",
       "\n",
       "                                      ml_used_applied ml_used_no     code_exp  \\\n",
       "3                                                 NaN        NaN  10-20 years   \n",
       "7                                                 NaN        NaN  10-20 years   \n",
       "8   Yes, the research made use of machine learning...        NaN    20+ years   \n",
       "10                                                NaN        NaN    1-3 years   \n",
       "13                                                NaN        NaN  10-20 years   \n",
       "\n",
       "   program_lang_Python  ... cloud_platform_SAPCloud  \\\n",
       "3               Python  ...                     NaN   \n",
       "7               Python  ...                     NaN   \n",
       "8               Python  ...                     NaN   \n",
       "10              Python  ...                     NaN   \n",
       "13              Python  ...                     NaN   \n",
       "\n",
       "   cloud_platform_VMwareCloud cloud_platform_AlibabaCloud  \\\n",
       "3                         NaN                         NaN   \n",
       "7                         NaN                         NaN   \n",
       "8                         NaN                         NaN   \n",
       "10                        NaN                         NaN   \n",
       "13                        NaN                         NaN   \n",
       "\n",
       "   cloud_platform_TencentCloud cloud_platform_HuaweiCloud cloud_platform_None  \\\n",
       "3                          NaN                        NaN                 NaN   \n",
       "7                          NaN                        NaN                 NaN   \n",
       "8                          NaN                        NaN                 NaN   \n",
       "10                         NaN                        NaN                 NaN   \n",
       "13                         NaN                        NaN                 NaN   \n",
       "\n",
       "   cloud_platform_Other stage_index count                edu_group  \n",
       "3                 Other         3.0     1  Below Bachelor's Degree  \n",
       "7                   NaN         4.0     1        Bachelor’s degree  \n",
       "8                   NaN         3.0     1    Above Master's Degree  \n",
       "10                  NaN         3.0     1          Master’s degree  \n",
       "13                  NaN         4.0     1    Above Master's Degree  \n",
       "\n",
       "[5 rows x 68 columns]"
      ]
     },
     "execution_count": 40,
     "metadata": {},
     "output_type": "execute_result"
    }
   ],
   "source": [
    "df.head()"
   ]
  },
  {
   "cell_type": "code",
   "execution_count": 41,
   "metadata": {},
   "outputs": [
    {
     "data": {
      "text/plain": [
       "title\n",
       "Data Administrator           63\n",
       "Data Analyst               1419\n",
       "Data Architect               89\n",
       "Data Engineer               316\n",
       "Data Scientist             1818\n",
       "Developer Advocate           53\n",
       "Engineer (non-software)     426\n",
       "ML/MLops Engineer           536\n",
       "Manager                     798\n",
       "Other                       706\n",
       "Research Scientist          567\n",
       "Software Engineer           904\n",
       "Statistician                113\n",
       "Teacher/professor           754\n",
       "dtype: int64"
      ]
     },
     "execution_count": 41,
     "metadata": {},
     "output_type": "execute_result"
    }
   ],
   "source": [
    "title_count = df.groupby('title').size()\n",
    "title_count"
   ]
  },
  {
   "cell_type": "code",
   "execution_count": 42,
   "metadata": {},
   "outputs": [
    {
     "data": {
      "text/plain": [
       "title\n",
       "Data Administrator           37\n",
       "Data Analyst               1054\n",
       "Data Architect               77\n",
       "Data Engineer               286\n",
       "Data Scientist             1709\n",
       "Developer Advocate           42\n",
       "Engineer (non-software)     295\n",
       "ML/MLops Engineer           524\n",
       "Manager                     584\n",
       "Other                       424\n",
       "Research Scientist          476\n",
       "Software Engineer           726\n",
       "Statistician                 70\n",
       "Teacher/professor           583\n",
       "Name: program_lang_Python, dtype: int64"
      ]
     },
     "execution_count": 42,
     "metadata": {},
     "output_type": "execute_result"
    }
   ],
   "source": [
    "python = df.groupby('title')['program_lang_Python'].count()\n",
    "python"
   ]
  },
  {
   "cell_type": "code",
   "execution_count": 43,
   "metadata": {},
   "outputs": [],
   "source": [
    "df.rename(columns = {'program_lang_C#':'program_lang_C_sharp'}, inplace = True)"
   ]
  },
  {
   "cell_type": "code",
   "execution_count": 44,
   "metadata": {},
   "outputs": [
    {
     "data": {
      "text/html": [
       "<div>\n",
       "<style scoped>\n",
       "    .dataframe tbody tr th:only-of-type {\n",
       "        vertical-align: middle;\n",
       "    }\n",
       "\n",
       "    .dataframe tbody tr th {\n",
       "        vertical-align: top;\n",
       "    }\n",
       "\n",
       "    .dataframe thead th {\n",
       "        text-align: right;\n",
       "    }\n",
       "</style>\n",
       "<table border=\"1\" class=\"dataframe\">\n",
       "  <thead>\n",
       "    <tr style=\"text-align: right;\">\n",
       "      <th></th>\n",
       "      <th>title</th>\n",
       "      <th>pct_python</th>\n",
       "      <th>pct_r</th>\n",
       "      <th>pct_sql</th>\n",
       "      <th>pct_c</th>\n",
       "      <th>pct_c_sharp</th>\n",
       "      <th>pct_c_plus</th>\n",
       "      <th>pct_java</th>\n",
       "      <th>pct_javascript</th>\n",
       "      <th>pct_bash</th>\n",
       "      <th>pct_php</th>\n",
       "      <th>pct_matlab</th>\n",
       "      <th>pct_julia</th>\n",
       "      <th>pct_go</th>\n",
       "      <th>pct_other</th>\n",
       "    </tr>\n",
       "  </thead>\n",
       "  <tbody>\n",
       "    <tr>\n",
       "      <th>0</th>\n",
       "      <td>Data Administrator</td>\n",
       "      <td>58.730159</td>\n",
       "      <td>20.634921</td>\n",
       "      <td>58.730159</td>\n",
       "      <td>7.936508</td>\n",
       "      <td>12.698413</td>\n",
       "      <td>4.761905</td>\n",
       "      <td>9.523810</td>\n",
       "      <td>17.460317</td>\n",
       "      <td>7.936508</td>\n",
       "      <td>9.523810</td>\n",
       "      <td>1.587302</td>\n",
       "      <td>0.000000</td>\n",
       "      <td>0.000000</td>\n",
       "      <td>7.936508</td>\n",
       "    </tr>\n",
       "    <tr>\n",
       "      <th>1</th>\n",
       "      <td>Data Analyst</td>\n",
       "      <td>74.277660</td>\n",
       "      <td>24.806202</td>\n",
       "      <td>59.619450</td>\n",
       "      <td>5.355884</td>\n",
       "      <td>3.030303</td>\n",
       "      <td>7.117689</td>\n",
       "      <td>5.849190</td>\n",
       "      <td>9.161381</td>\n",
       "      <td>4.157858</td>\n",
       "      <td>4.228330</td>\n",
       "      <td>5.144468</td>\n",
       "      <td>0.775194</td>\n",
       "      <td>0.563777</td>\n",
       "      <td>6.412967</td>\n",
       "    </tr>\n",
       "    <tr>\n",
       "      <th>2</th>\n",
       "      <td>Data Architect</td>\n",
       "      <td>86.516854</td>\n",
       "      <td>15.730337</td>\n",
       "      <td>74.157303</td>\n",
       "      <td>11.235955</td>\n",
       "      <td>24.719101</td>\n",
       "      <td>12.359551</td>\n",
       "      <td>31.460674</td>\n",
       "      <td>30.337079</td>\n",
       "      <td>19.101124</td>\n",
       "      <td>11.235955</td>\n",
       "      <td>4.494382</td>\n",
       "      <td>4.494382</td>\n",
       "      <td>7.865169</td>\n",
       "      <td>15.730337</td>\n",
       "    </tr>\n",
       "    <tr>\n",
       "      <th>3</th>\n",
       "      <td>Data Engineer</td>\n",
       "      <td>90.506329</td>\n",
       "      <td>15.822785</td>\n",
       "      <td>74.683544</td>\n",
       "      <td>12.025316</td>\n",
       "      <td>10.443038</td>\n",
       "      <td>14.873418</td>\n",
       "      <td>18.037975</td>\n",
       "      <td>19.303797</td>\n",
       "      <td>24.683544</td>\n",
       "      <td>5.696203</td>\n",
       "      <td>6.645570</td>\n",
       "      <td>1.265823</td>\n",
       "      <td>3.164557</td>\n",
       "      <td>11.075949</td>\n",
       "    </tr>\n",
       "    <tr>\n",
       "      <th>4</th>\n",
       "      <td>Data Scientist</td>\n",
       "      <td>94.004400</td>\n",
       "      <td>27.997800</td>\n",
       "      <td>59.515952</td>\n",
       "      <td>6.270627</td>\n",
       "      <td>4.510451</td>\n",
       "      <td>7.535754</td>\n",
       "      <td>9.625963</td>\n",
       "      <td>9.955996</td>\n",
       "      <td>13.311331</td>\n",
       "      <td>2.860286</td>\n",
       "      <td>7.370737</td>\n",
       "      <td>1.650165</td>\n",
       "      <td>0.935094</td>\n",
       "      <td>5.940594</td>\n",
       "    </tr>\n",
       "    <tr>\n",
       "      <th>5</th>\n",
       "      <td>Developer Advocate</td>\n",
       "      <td>79.245283</td>\n",
       "      <td>15.094340</td>\n",
       "      <td>41.509434</td>\n",
       "      <td>18.867925</td>\n",
       "      <td>16.981132</td>\n",
       "      <td>24.528302</td>\n",
       "      <td>33.962264</td>\n",
       "      <td>33.962264</td>\n",
       "      <td>15.094340</td>\n",
       "      <td>20.754717</td>\n",
       "      <td>5.660377</td>\n",
       "      <td>3.773585</td>\n",
       "      <td>3.773585</td>\n",
       "      <td>13.207547</td>\n",
       "    </tr>\n",
       "    <tr>\n",
       "      <th>6</th>\n",
       "      <td>Engineer (non-software)</td>\n",
       "      <td>69.248826</td>\n",
       "      <td>11.971831</td>\n",
       "      <td>26.995305</td>\n",
       "      <td>7.276995</td>\n",
       "      <td>1.877934</td>\n",
       "      <td>10.798122</td>\n",
       "      <td>6.338028</td>\n",
       "      <td>7.511737</td>\n",
       "      <td>5.633803</td>\n",
       "      <td>2.582160</td>\n",
       "      <td>14.553991</td>\n",
       "      <td>1.173709</td>\n",
       "      <td>0.234742</td>\n",
       "      <td>8.450704</td>\n",
       "    </tr>\n",
       "    <tr>\n",
       "      <th>7</th>\n",
       "      <td>ML/MLops Engineer</td>\n",
       "      <td>97.761194</td>\n",
       "      <td>10.447761</td>\n",
       "      <td>40.671642</td>\n",
       "      <td>10.261194</td>\n",
       "      <td>6.343284</td>\n",
       "      <td>19.216418</td>\n",
       "      <td>13.992537</td>\n",
       "      <td>16.417910</td>\n",
       "      <td>26.492537</td>\n",
       "      <td>3.731343</td>\n",
       "      <td>8.582090</td>\n",
       "      <td>1.679104</td>\n",
       "      <td>3.544776</td>\n",
       "      <td>5.410448</td>\n",
       "    </tr>\n",
       "    <tr>\n",
       "      <th>8</th>\n",
       "      <td>Manager</td>\n",
       "      <td>73.182957</td>\n",
       "      <td>23.057644</td>\n",
       "      <td>45.363409</td>\n",
       "      <td>10.526316</td>\n",
       "      <td>7.644110</td>\n",
       "      <td>11.779449</td>\n",
       "      <td>12.781955</td>\n",
       "      <td>16.666667</td>\n",
       "      <td>9.649123</td>\n",
       "      <td>6.641604</td>\n",
       "      <td>4.761905</td>\n",
       "      <td>1.002506</td>\n",
       "      <td>1.629073</td>\n",
       "      <td>7.393484</td>\n",
       "    </tr>\n",
       "    <tr>\n",
       "      <th>9</th>\n",
       "      <td>Other</td>\n",
       "      <td>60.056657</td>\n",
       "      <td>16.147309</td>\n",
       "      <td>32.011331</td>\n",
       "      <td>7.082153</td>\n",
       "      <td>4.249292</td>\n",
       "      <td>7.507082</td>\n",
       "      <td>7.932011</td>\n",
       "      <td>9.915014</td>\n",
       "      <td>6.657224</td>\n",
       "      <td>4.107649</td>\n",
       "      <td>4.107649</td>\n",
       "      <td>1.133144</td>\n",
       "      <td>1.274788</td>\n",
       "      <td>7.790368</td>\n",
       "    </tr>\n",
       "    <tr>\n",
       "      <th>10</th>\n",
       "      <td>Research Scientist</td>\n",
       "      <td>83.950617</td>\n",
       "      <td>29.453263</td>\n",
       "      <td>22.045855</td>\n",
       "      <td>17.636684</td>\n",
       "      <td>7.054674</td>\n",
       "      <td>22.398589</td>\n",
       "      <td>10.405644</td>\n",
       "      <td>10.582011</td>\n",
       "      <td>15.873016</td>\n",
       "      <td>5.467372</td>\n",
       "      <td>23.280423</td>\n",
       "      <td>4.585538</td>\n",
       "      <td>1.234568</td>\n",
       "      <td>8.994709</td>\n",
       "    </tr>\n",
       "    <tr>\n",
       "      <th>11</th>\n",
       "      <td>Software Engineer</td>\n",
       "      <td>80.309735</td>\n",
       "      <td>7.411504</td>\n",
       "      <td>53.871681</td>\n",
       "      <td>18.141593</td>\n",
       "      <td>20.575221</td>\n",
       "      <td>24.889381</td>\n",
       "      <td>32.300885</td>\n",
       "      <td>39.269912</td>\n",
       "      <td>15.265487</td>\n",
       "      <td>10.287611</td>\n",
       "      <td>5.088496</td>\n",
       "      <td>0.884956</td>\n",
       "      <td>5.862832</td>\n",
       "      <td>13.053097</td>\n",
       "    </tr>\n",
       "    <tr>\n",
       "      <th>12</th>\n",
       "      <td>Statistician</td>\n",
       "      <td>61.946903</td>\n",
       "      <td>55.752212</td>\n",
       "      <td>37.168142</td>\n",
       "      <td>7.079646</td>\n",
       "      <td>5.309735</td>\n",
       "      <td>7.964602</td>\n",
       "      <td>4.424779</td>\n",
       "      <td>6.194690</td>\n",
       "      <td>4.424779</td>\n",
       "      <td>3.539823</td>\n",
       "      <td>9.734513</td>\n",
       "      <td>2.654867</td>\n",
       "      <td>0.884956</td>\n",
       "      <td>13.274336</td>\n",
       "    </tr>\n",
       "    <tr>\n",
       "      <th>13</th>\n",
       "      <td>Teacher/professor</td>\n",
       "      <td>77.320955</td>\n",
       "      <td>27.453581</td>\n",
       "      <td>30.106101</td>\n",
       "      <td>28.381963</td>\n",
       "      <td>8.090186</td>\n",
       "      <td>27.320955</td>\n",
       "      <td>20.689655</td>\n",
       "      <td>16.843501</td>\n",
       "      <td>5.570292</td>\n",
       "      <td>11.007958</td>\n",
       "      <td>23.740053</td>\n",
       "      <td>1.856764</td>\n",
       "      <td>0.530504</td>\n",
       "      <td>7.559682</td>\n",
       "    </tr>\n",
       "  </tbody>\n",
       "</table>\n",
       "</div>"
      ],
      "text/plain": [
       "                      title  pct_python      pct_r    pct_sql      pct_c  \\\n",
       "0        Data Administrator   58.730159  20.634921  58.730159   7.936508   \n",
       "1              Data Analyst   74.277660  24.806202  59.619450   5.355884   \n",
       "2            Data Architect   86.516854  15.730337  74.157303  11.235955   \n",
       "3             Data Engineer   90.506329  15.822785  74.683544  12.025316   \n",
       "4            Data Scientist   94.004400  27.997800  59.515952   6.270627   \n",
       "5        Developer Advocate   79.245283  15.094340  41.509434  18.867925   \n",
       "6   Engineer (non-software)   69.248826  11.971831  26.995305   7.276995   \n",
       "7         ML/MLops Engineer   97.761194  10.447761  40.671642  10.261194   \n",
       "8                   Manager   73.182957  23.057644  45.363409  10.526316   \n",
       "9                     Other   60.056657  16.147309  32.011331   7.082153   \n",
       "10       Research Scientist   83.950617  29.453263  22.045855  17.636684   \n",
       "11        Software Engineer   80.309735   7.411504  53.871681  18.141593   \n",
       "12             Statistician   61.946903  55.752212  37.168142   7.079646   \n",
       "13        Teacher/professor   77.320955  27.453581  30.106101  28.381963   \n",
       "\n",
       "    pct_c_sharp  pct_c_plus   pct_java  pct_javascript   pct_bash    pct_php  \\\n",
       "0     12.698413    4.761905   9.523810       17.460317   7.936508   9.523810   \n",
       "1      3.030303    7.117689   5.849190        9.161381   4.157858   4.228330   \n",
       "2     24.719101   12.359551  31.460674       30.337079  19.101124  11.235955   \n",
       "3     10.443038   14.873418  18.037975       19.303797  24.683544   5.696203   \n",
       "4      4.510451    7.535754   9.625963        9.955996  13.311331   2.860286   \n",
       "5     16.981132   24.528302  33.962264       33.962264  15.094340  20.754717   \n",
       "6      1.877934   10.798122   6.338028        7.511737   5.633803   2.582160   \n",
       "7      6.343284   19.216418  13.992537       16.417910  26.492537   3.731343   \n",
       "8      7.644110   11.779449  12.781955       16.666667   9.649123   6.641604   \n",
       "9      4.249292    7.507082   7.932011        9.915014   6.657224   4.107649   \n",
       "10     7.054674   22.398589  10.405644       10.582011  15.873016   5.467372   \n",
       "11    20.575221   24.889381  32.300885       39.269912  15.265487  10.287611   \n",
       "12     5.309735    7.964602   4.424779        6.194690   4.424779   3.539823   \n",
       "13     8.090186   27.320955  20.689655       16.843501   5.570292  11.007958   \n",
       "\n",
       "    pct_matlab  pct_julia    pct_go  pct_other  \n",
       "0     1.587302   0.000000  0.000000   7.936508  \n",
       "1     5.144468   0.775194  0.563777   6.412967  \n",
       "2     4.494382   4.494382  7.865169  15.730337  \n",
       "3     6.645570   1.265823  3.164557  11.075949  \n",
       "4     7.370737   1.650165  0.935094   5.940594  \n",
       "5     5.660377   3.773585  3.773585  13.207547  \n",
       "6    14.553991   1.173709  0.234742   8.450704  \n",
       "7     8.582090   1.679104  3.544776   5.410448  \n",
       "8     4.761905   1.002506  1.629073   7.393484  \n",
       "9     4.107649   1.133144  1.274788   7.790368  \n",
       "10   23.280423   4.585538  1.234568   8.994709  \n",
       "11    5.088496   0.884956  5.862832  13.053097  \n",
       "12    9.734513   2.654867  0.884956  13.274336  \n",
       "13   23.740053   1.856764  0.530504   7.559682  "
      ]
     },
     "execution_count": 44,
     "metadata": {},
     "output_type": "execute_result"
    }
   ],
   "source": [
    "python = df.groupby('title')['program_lang_Python'].count()\n",
    "r = df.groupby('title')['program_lang_R'].count()\n",
    "sql = df.groupby('title')['program_lang_SQL'].count()\n",
    "c = df.groupby('title')['program_lang_C'].count()\n",
    "c_thang = df.groupby('title')['program_lang_C_sharp'].count()\n",
    "c_plus = df.groupby('title')['program_lang_C++'].count()\n",
    "java = df.groupby('title')['program_lang_Java'].count()\n",
    "javascript = df.groupby('title')['program_lang_Javascript'].count()\n",
    "bash = df.groupby('title')['program_lang_Bash'].count()\n",
    "php = df.groupby('title')['program_lang_PHP'].count()\n",
    "matlab = df.groupby('title')['program_lang_MATLAB'].count()\n",
    "julia = df.groupby('title')['program_lang_Julia'].count()\n",
    "go = df.groupby('title')['program_lang_Go'].count()\n",
    "other = df.groupby('title')['program_lang_Other'].count()\n",
    "\n",
    "program_lang = pd.concat([title_count, python, r, sql, c, c_thang, c_plus, java, javascript, bash, php, matlab, julia, go, other], axis=1)\n",
    "program_lang = program_lang.rename(columns={0: 'count'}).reset_index()\n",
    "program_lang = (\n",
    "    program_lang\n",
    "    .eval('pct_python = program_lang_Python / count * 100')\n",
    "    .eval('pct_r = program_lang_R / count * 100')\n",
    "    .eval('pct_sql= program_lang_SQL / count * 100')\n",
    "    .eval('pct_c = program_lang_C / count * 100')\n",
    "    .eval('pct_c_sharp = program_lang_C_sharp / count * 100')\n",
    "    .eval('pct_c_plus = `program_lang_C++` / count * 100')\n",
    "    .eval('pct_java = program_lang_Java / count * 100')\n",
    "    .eval('pct_javascript = program_lang_Javascript / count * 100')\n",
    "    .eval('pct_bash = program_lang_Bash / count * 100')\n",
    "    .eval('pct_php = program_lang_PHP / count * 100')\n",
    "    .eval('pct_matlab = program_lang_MATLAB / count * 100')\n",
    "    .eval('pct_julia = program_lang_Julia / count * 100')\n",
    "    .eval('pct_go = program_lang_Go / count * 100')\n",
    "    .eval('pct_other = program_lang_Other / count * 100')\n",
    "    .drop([\n",
    "        'program_lang_Python',\n",
    "        'program_lang_R',\n",
    "        'program_lang_SQL',\n",
    "        'program_lang_C',\n",
    "        'program_lang_C_sharp',\n",
    "        'program_lang_C++',\n",
    "        'program_lang_Java',\n",
    "        'program_lang_Javascript',\n",
    "        'program_lang_Bash',\n",
    "        'program_lang_PHP',\n",
    "        'program_lang_MATLAB',\n",
    "        'program_lang_Julia',\n",
    "        'program_lang_Go',\n",
    "        'program_lang_Other',\n",
    "        'count'\n",
    "    ], axis=1)\n",
    ")\n",
    "\n",
    "program_lang"
   ]
  },
  {
   "cell_type": "code",
   "execution_count": 45,
   "metadata": {},
   "outputs": [
    {
     "ename": "KeyError",
     "evalue": "\"None of [Index(['Data Scientist', 'Software Engineer', 'Research Scientist', 'Other',\\n       'Developer Advocate', 'Data Scientist', 'Data Scientist',\\n       'Data Analyst', 'Data Engineer', 'Data Engineer',\\n       ...\\n       'Software Engineer', 'Data Scientist', 'Manager', 'ML/MLops Engineer',\\n       'Teacher/professor', 'Data Architect', 'Data Scientist',\\n       'Data Engineer', 'Engineer (non-software)', 'Research Scientist'],\\n      dtype='object', length=8562)] are in the [columns]\"",
     "output_type": "error",
     "traceback": [
      "\u001b[0;31m---------------------------------------------------------------------------\u001b[0m",
      "\u001b[0;31mKeyError\u001b[0m                                  Traceback (most recent call last)",
      "Cell \u001b[0;32mIn [45], line 30\u001b[0m\n\u001b[1;32m     28\u001b[0m t \u001b[39m=\u001b[39m []  \u001b[39m# This will hold the target nodes\u001b[39;00m\n\u001b[1;32m     29\u001b[0m v \u001b[39m=\u001b[39m []  \u001b[39m# This will hold the flow volumes between the source and target nodes\u001b[39;00m\n\u001b[0;32m---> 30\u001b[0m labels \u001b[39m=\u001b[39m np\u001b[39m.\u001b[39munique(df[cols]\u001b[39m.\u001b[39mvalues)  \u001b[39m# Collect all the node labels\u001b[39;00m\n\u001b[1;32m     32\u001b[0m \u001b[39m# Get all the links between two nodes in the data and their corresponding values\u001b[39;00m\n\u001b[1;32m     33\u001b[0m \u001b[39mfor\u001b[39;00m c \u001b[39min\u001b[39;00m \u001b[39mrange\u001b[39m(\u001b[39mlen\u001b[39m(cols) \u001b[39m-\u001b[39m \u001b[39m1\u001b[39m):\n",
      "File \u001b[0;32m/opt/anaconda3/envs/conda_3_10/lib/python3.10/site-packages/pandas/core/frame.py:3810\u001b[0m, in \u001b[0;36mDataFrame.__getitem__\u001b[0;34m(self, key)\u001b[0m\n\u001b[1;32m   3808\u001b[0m     \u001b[39mif\u001b[39;00m is_iterator(key):\n\u001b[1;32m   3809\u001b[0m         key \u001b[39m=\u001b[39m \u001b[39mlist\u001b[39m(key)\n\u001b[0;32m-> 3810\u001b[0m     indexer \u001b[39m=\u001b[39m \u001b[39mself\u001b[39;49m\u001b[39m.\u001b[39;49mcolumns\u001b[39m.\u001b[39;49m_get_indexer_strict(key, \u001b[39m\"\u001b[39;49m\u001b[39mcolumns\u001b[39;49m\u001b[39m\"\u001b[39;49m)[\u001b[39m1\u001b[39m]\n\u001b[1;32m   3812\u001b[0m \u001b[39m# take() does not accept boolean indexers\u001b[39;00m\n\u001b[1;32m   3813\u001b[0m \u001b[39mif\u001b[39;00m \u001b[39mgetattr\u001b[39m(indexer, \u001b[39m\"\u001b[39m\u001b[39mdtype\u001b[39m\u001b[39m\"\u001b[39m, \u001b[39mNone\u001b[39;00m) \u001b[39m==\u001b[39m \u001b[39mbool\u001b[39m:\n",
      "File \u001b[0;32m/opt/anaconda3/envs/conda_3_10/lib/python3.10/site-packages/pandas/core/indexes/base.py:6111\u001b[0m, in \u001b[0;36mIndex._get_indexer_strict\u001b[0;34m(self, key, axis_name)\u001b[0m\n\u001b[1;32m   6108\u001b[0m \u001b[39melse\u001b[39;00m:\n\u001b[1;32m   6109\u001b[0m     keyarr, indexer, new_indexer \u001b[39m=\u001b[39m \u001b[39mself\u001b[39m\u001b[39m.\u001b[39m_reindex_non_unique(keyarr)\n\u001b[0;32m-> 6111\u001b[0m \u001b[39mself\u001b[39;49m\u001b[39m.\u001b[39;49m_raise_if_missing(keyarr, indexer, axis_name)\n\u001b[1;32m   6113\u001b[0m keyarr \u001b[39m=\u001b[39m \u001b[39mself\u001b[39m\u001b[39m.\u001b[39mtake(indexer)\n\u001b[1;32m   6114\u001b[0m \u001b[39mif\u001b[39;00m \u001b[39misinstance\u001b[39m(key, Index):\n\u001b[1;32m   6115\u001b[0m     \u001b[39m# GH 42790 - Preserve name from an Index\u001b[39;00m\n",
      "File \u001b[0;32m/opt/anaconda3/envs/conda_3_10/lib/python3.10/site-packages/pandas/core/indexes/base.py:6171\u001b[0m, in \u001b[0;36mIndex._raise_if_missing\u001b[0;34m(self, key, indexer, axis_name)\u001b[0m\n\u001b[1;32m   6169\u001b[0m     \u001b[39mif\u001b[39;00m use_interval_msg:\n\u001b[1;32m   6170\u001b[0m         key \u001b[39m=\u001b[39m \u001b[39mlist\u001b[39m(key)\n\u001b[0;32m-> 6171\u001b[0m     \u001b[39mraise\u001b[39;00m \u001b[39mKeyError\u001b[39;00m(\u001b[39mf\u001b[39m\u001b[39m\"\u001b[39m\u001b[39mNone of [\u001b[39m\u001b[39m{\u001b[39;00mkey\u001b[39m}\u001b[39;00m\u001b[39m] are in the [\u001b[39m\u001b[39m{\u001b[39;00maxis_name\u001b[39m}\u001b[39;00m\u001b[39m]\u001b[39m\u001b[39m\"\u001b[39m)\n\u001b[1;32m   6173\u001b[0m not_found \u001b[39m=\u001b[39m \u001b[39mlist\u001b[39m(ensure_index(key)[missing_mask\u001b[39m.\u001b[39mnonzero()[\u001b[39m0\u001b[39m]]\u001b[39m.\u001b[39munique())\n\u001b[1;32m   6174\u001b[0m \u001b[39mraise\u001b[39;00m \u001b[39mKeyError\u001b[39;00m(\u001b[39mf\u001b[39m\u001b[39m\"\u001b[39m\u001b[39m{\u001b[39;00mnot_found\u001b[39m}\u001b[39;00m\u001b[39m not in index\u001b[39m\u001b[39m\"\u001b[39m)\n",
      "\u001b[0;31mKeyError\u001b[0m: \"None of [Index(['Data Scientist', 'Software Engineer', 'Research Scientist', 'Other',\\n       'Developer Advocate', 'Data Scientist', 'Data Scientist',\\n       'Data Analyst', 'Data Engineer', 'Data Engineer',\\n       ...\\n       'Software Engineer', 'Data Scientist', 'Manager', 'ML/MLops Engineer',\\n       'Teacher/professor', 'Data Architect', 'Data Scientist',\\n       'Data Engineer', 'Engineer (non-software)', 'Research Scientist'],\\n      dtype='object', length=8562)] are in the [columns]\""
     ]
    }
   ],
   "source": [
    "# -----------------------------------------#\n",
    "# Fill out steps 1-4 to spec your diagram: #\n",
    "# -----------------------------------------#\n",
    "\n",
    "# Step 1. Specify >=2 categorical columns in flow order\n",
    "cols = df['title']\n",
    "\n",
    "# Step 2. Specify a column for the flow volume value\n",
    "value = \"Sales\"\n",
    "value_suffix = \" USD\"  # Specify (if any) a suffix for the value\n",
    "\n",
    "# Step 3. Set the plot's title\n",
    "title = \"Breakdown of 2021 Sales by Region, Segment, and Product Category\"\n",
    "\n",
    "# Step 4. (Optional) Customize layout, font, and colors\n",
    "width, height = 700, 500  # Set plot's width and height\n",
    "fontsize = 14  # Set font size of labels\n",
    "fontfamily = \"Helvetica\"  # Set font family of plot's text\n",
    "bgcolor = \"SeaShell\"  # Set the plot's background color (use color name or hex code)\n",
    "link_opacity = 0.3  # Set a value from 0 to 1: the lower, the more transparent the links\n",
    "node_colors = px.colors.qualitative.G10  # Define a list of hex color codes for nodes\n",
    "\n",
    "# ---------------------------------------#\n",
    "# Code to create Sankey diagram begins!  #\n",
    "# ---------------------------------------#\n",
    "\n",
    "s = []  # This will hold the source nodes\n",
    "t = []  # This will hold the target nodes\n",
    "v = []  # This will hold the flow volumes between the source and target nodes\n",
    "labels = np.unique(df[cols].values)  # Collect all the node labels\n",
    "\n",
    "# Get all the links between two nodes in the data and their corresponding values\n",
    "for c in range(len(cols) - 1):\n",
    "    s.extend(df[cols[c]].tolist())\n",
    "    t.extend(df[cols[c + 1]].tolist())\n",
    "    v.extend(df[value].tolist())\n",
    "links = pd.DataFrame({\"source\": s, \"target\": t, \"value\": v})  \n",
    "links = links.groupby([\"source\", \"target\"], as_index=False).agg({\"value\": \"sum\"})\n",
    "\n",
    "# Convert list of colors to RGB format to override default gray link colors\n",
    "colors = [matplotlib.colors.to_rgb(i) for i in node_colors]  \n",
    "\n",
    "# Create objects to hold node/label and link colors\n",
    "label_colors, links[\"link_c\"] = [], 0\n",
    "\n",
    "# Loop through all the labels to specify color and to use label indices\n",
    "c, max_colors = 0, len(colors)  # To loop through the colors array\n",
    "for l in range(len(labels)):\n",
    "    label_colors.append(colors[c])\n",
    "    link_color = colors[c] + (link_opacity,)  # Make link more transparent than the node\n",
    "    links.loc[links.source == labels[l], [\"link_c\"]] = \"rgba\" + str(link_color)\n",
    "    links = links.replace({labels[l]: l})  # Replace node labels with the label's index\n",
    "    if c == max_colors - 1:\n",
    "        c = 0\n",
    "    else:\n",
    "        c += 1\n",
    "\n",
    "# Convert colors into RGB string format for Plotly\n",
    "label_colors = [\"rgb\" + str(i) for i in label_colors]\n",
    "\n",
    "# Define a Plotly Sankey diagram\n",
    "fig = go.Figure( \n",
    "    data=[\n",
    "        go.Sankey(\n",
    "            valuesuffix=value_suffix,\n",
    "            node=dict(label=labels, color=label_colors),\n",
    "            link=dict(\n",
    "                source=links[\"source\"],\n",
    "                target=links[\"target\"],\n",
    "                value=links[\"value\"],\n",
    "                color=links[\"link_c\"],\n",
    "            ),\n",
    "        )\n",
    "    ]\n",
    ")\n",
    "\n",
    "# Customize plot based on earlier values\n",
    "fig.update_layout(\n",
    "    title_text=title,\n",
    "    font_size=fontsize,\n",
    "    font_family=fontfamily,\n",
    "    width=width,\n",
    "    height=height,\n",
    "    paper_bgcolor=bgcolor,\n",
    "    title={\"y\": 0.9, \"x\": 0.5, \"xanchor\": \"center\", \"yanchor\": \"top\"},  # Centers title\n",
    ")\n",
    "\n",
    "fig.show()"
   ]
  },
  {
   "cell_type": "code",
   "execution_count": null,
   "metadata": {},
   "outputs": [],
   "source": []
  },
  {
   "cell_type": "code",
   "execution_count": null,
   "metadata": {},
   "outputs": [],
   "source": []
  },
  {
   "cell_type": "code",
   "execution_count": null,
   "metadata": {},
   "outputs": [],
   "source": []
  },
  {
   "cell_type": "code",
   "execution_count": null,
   "metadata": {},
   "outputs": [],
   "source": []
  },
  {
   "cell_type": "code",
   "execution_count": null,
   "metadata": {},
   "outputs": [],
   "source": []
  },
  {
   "cell_type": "code",
   "execution_count": null,
   "metadata": {},
   "outputs": [],
   "source": []
  },
  {
   "cell_type": "code",
   "execution_count": null,
   "metadata": {},
   "outputs": [],
   "source": []
  }
 ],
 "metadata": {
  "kernelspec": {
   "display_name": "Python 3.10.4 ('conda_3_10')",
   "language": "python",
   "name": "python3"
  },
  "language_info": {
   "codemirror_mode": {
    "name": "ipython",
    "version": 3
   },
   "file_extension": ".py",
   "mimetype": "text/x-python",
   "name": "python",
   "nbconvert_exporter": "python",
   "pygments_lexer": "ipython3",
   "version": "3.10.4"
  },
  "orig_nbformat": 4,
  "vscode": {
   "interpreter": {
    "hash": "8b9ff4162452091f6c2528883ae61dc6ecfac2061e6f2887e38ff166f42f8ecf"
   }
  }
 },
 "nbformat": 4,
 "nbformat_minor": 2
}
